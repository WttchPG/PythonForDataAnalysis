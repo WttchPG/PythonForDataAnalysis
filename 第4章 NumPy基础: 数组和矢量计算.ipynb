{
 "cells": [
  {
   "cell_type": "markdown",
   "source": [
    "# NumPy 的 narray: 一种多维数组对象"
   ],
   "metadata": {
    "collapsed": false
   }
  },
  {
   "cell_type": "code",
   "execution_count": 159,
   "outputs": [
    {
     "data": {
      "text/plain": "array([[ 0.9526, -0.246 , -0.8856],\n       [ 0.5639,  0.2379,  0.9104]])"
     },
     "execution_count": 159,
     "metadata": {},
     "output_type": "execute_result"
    }
   ],
   "source": [
    "import matplotlib.pyplot as plt\n",
    "import numpy as np\n",
    "\n",
    "data = np.array([[0.9526, -0.246, -0.8856], [0.5639, 0.2379, 0.9104]])\n",
    "\n",
    "data"
   ],
   "metadata": {
    "collapsed": false,
    "ExecuteTime": {
     "end_time": "2023-09-21T11:14:00.282487Z",
     "start_time": "2023-09-21T11:13:59.809185Z"
    }
   }
  },
  {
   "cell_type": "markdown",
   "source": [
    "你可以利用这种数组对整块数据执行一些数学运算，其语法跟标量元素之间的运算一样。"
   ],
   "metadata": {
    "collapsed": false
   }
  },
  {
   "cell_type": "code",
   "execution_count": 160,
   "outputs": [
    {
     "data": {
      "text/plain": "array([[ 9.526, -2.46 , -8.856],\n       [ 5.639,  2.379,  9.104]])"
     },
     "execution_count": 160,
     "metadata": {},
     "output_type": "execute_result"
    }
   ],
   "source": [
    "data * 10"
   ],
   "metadata": {
    "collapsed": false,
    "ExecuteTime": {
     "end_time": "2023-09-21T11:14:00.611364Z",
     "start_time": "2023-09-21T11:13:59.823407Z"
    }
   }
  },
  {
   "cell_type": "code",
   "execution_count": 161,
   "outputs": [
    {
     "data": {
      "text/plain": "array([[ 1.9052, -0.492 , -1.7712],\n       [ 1.1278,  0.4758,  1.8208]])"
     },
     "execution_count": 161,
     "metadata": {},
     "output_type": "execute_result"
    }
   ],
   "source": [
    "data + data"
   ],
   "metadata": {
    "collapsed": false,
    "ExecuteTime": {
     "end_time": "2023-09-21T11:14:00.611573Z",
     "start_time": "2023-09-21T11:13:59.828083Z"
    }
   }
  },
  {
   "cell_type": "markdown",
   "source": [
    "ndarray 是一种通用的同构数据多维容器，每个数组都有 shape (一个表示维度的元组)和一个 dtype (一个用于表示数组元素类型的对象)。"
   ],
   "metadata": {
    "collapsed": false
   }
  },
  {
   "cell_type": "code",
   "execution_count": 162,
   "outputs": [
    {
     "data": {
      "text/plain": "(2, 3)"
     },
     "execution_count": 162,
     "metadata": {},
     "output_type": "execute_result"
    }
   ],
   "source": [
    "data.shape"
   ],
   "metadata": {
    "collapsed": false,
    "ExecuteTime": {
     "end_time": "2023-09-21T11:14:00.657609Z",
     "start_time": "2023-09-21T11:13:59.839473Z"
    }
   }
  },
  {
   "cell_type": "code",
   "execution_count": 163,
   "outputs": [
    {
     "data": {
      "text/plain": "dtype('float64')"
     },
     "execution_count": 163,
     "metadata": {},
     "output_type": "execute_result"
    }
   ],
   "source": [
    "data.dtype"
   ],
   "metadata": {
    "collapsed": false,
    "ExecuteTime": {
     "end_time": "2023-09-21T11:14:00.708653Z",
     "start_time": "2023-09-21T11:13:59.842458Z"
    }
   }
  },
  {
   "cell_type": "markdown",
   "source": [
    "## 创建 ndarray"
   ],
   "metadata": {
    "collapsed": false
   }
  },
  {
   "cell_type": "code",
   "execution_count": 164,
   "outputs": [
    {
     "data": {
      "text/plain": "array([6. , 7.5, 8. , 0. , 1. ])"
     },
     "execution_count": 164,
     "metadata": {},
     "output_type": "execute_result"
    }
   ],
   "source": [
    "data1 = [6, 7.5, 8, 0, 1]\n",
    "arr1 = np.array(data1)\n",
    "\n",
    "arr1"
   ],
   "metadata": {
    "collapsed": false,
    "ExecuteTime": {
     "end_time": "2023-09-21T11:14:00.708923Z",
     "start_time": "2023-09-21T11:13:59.846248Z"
    }
   }
  },
  {
   "cell_type": "code",
   "execution_count": 165,
   "outputs": [
    {
     "data": {
      "text/plain": "array([[1, 2, 3, 4],\n       [5, 6, 7, 8]])"
     },
     "execution_count": 165,
     "metadata": {},
     "output_type": "execute_result"
    }
   ],
   "source": [
    "# 二维数组内的维度都必须一样，否则 np.array 将会报错\n",
    "data2 = [[1, 2, 3, 4], [5, 6, 7, 8]]\n",
    "arr2 = np.array(data2)\n",
    "\n",
    "arr2"
   ],
   "metadata": {
    "collapsed": false,
    "ExecuteTime": {
     "end_time": "2023-09-21T11:14:00.755173Z",
     "start_time": "2023-09-21T11:13:59.849871Z"
    }
   }
  },
  {
   "cell_type": "code",
   "execution_count": 166,
   "outputs": [
    {
     "data": {
      "text/plain": "2"
     },
     "execution_count": 166,
     "metadata": {},
     "output_type": "execute_result"
    }
   ],
   "source": [
    "# 返回数组的维度\n",
    "arr2.ndim"
   ],
   "metadata": {
    "collapsed": false,
    "ExecuteTime": {
     "end_time": "2023-09-21T11:14:00.755378Z",
     "start_time": "2023-09-21T11:13:59.852717Z"
    }
   }
  },
  {
   "cell_type": "code",
   "execution_count": 167,
   "outputs": [
    {
     "data": {
      "text/plain": "(2, 4)"
     },
     "execution_count": 167,
     "metadata": {},
     "output_type": "execute_result"
    }
   ],
   "source": [
    "arr2.shape"
   ],
   "metadata": {
    "collapsed": false,
    "ExecuteTime": {
     "end_time": "2023-09-21T11:14:00.793841Z",
     "start_time": "2023-09-21T11:13:59.855311Z"
    }
   }
  },
  {
   "cell_type": "markdown",
   "source": [
    "除非显式声明，否则 np.array 会尝试为给定的数组创建出一个合适的数据类型。"
   ],
   "metadata": {
    "collapsed": false
   }
  },
  {
   "cell_type": "code",
   "execution_count": 168,
   "outputs": [
    {
     "data": {
      "text/plain": "(dtype('float64'), dtype('int64'))"
     },
     "execution_count": 168,
     "metadata": {},
     "output_type": "execute_result"
    }
   ],
   "source": [
    "(arr1.dtype, arr2.dtype)"
   ],
   "metadata": {
    "collapsed": false,
    "ExecuteTime": {
     "end_time": "2023-09-21T11:14:00.794130Z",
     "start_time": "2023-09-21T11:13:59.859290Z"
    }
   }
  },
  {
   "cell_type": "code",
   "execution_count": 169,
   "outputs": [
    {
     "data": {
      "text/plain": "(array([0., 0., 0., 0., 0., 0., 0., 0., 0., 0.]),\n array([[0., 0., 0., 0., 0., 0.],\n        [0., 0., 0., 0., 0., 0.],\n        [0., 0., 0., 0., 0., 0.]]),\n array([[[0., 0.],\n         [1., 0.],\n         [1., 1.]],\n \n        [[0., 1.],\n         [0., 0.],\n         [0., 0.]]]))"
     },
     "execution_count": 169,
     "metadata": {},
     "output_type": "execute_result"
    }
   ],
   "source": [
    "np.zeros(10), np.zeros((3, 6)), np.empty((2, 3, 2))"
   ],
   "metadata": {
    "collapsed": false,
    "ExecuteTime": {
     "end_time": "2023-09-21T11:14:00.794314Z",
     "start_time": "2023-09-21T11:13:59.861997Z"
    }
   }
  },
  {
   "cell_type": "code",
   "execution_count": 170,
   "outputs": [
    {
     "data": {
      "text/plain": "array([ 0,  1,  2,  3,  4,  5,  6,  7,  8,  9, 10, 11, 12, 13, 14])"
     },
     "execution_count": 170,
     "metadata": {},
     "output_type": "execute_result"
    }
   ],
   "source": [
    "# arange 可以生成一个序列数组\n",
    "np.arange(15)"
   ],
   "metadata": {
    "collapsed": false,
    "ExecuteTime": {
     "end_time": "2023-09-21T11:14:00.794445Z",
     "start_time": "2023-09-21T11:13:59.865851Z"
    }
   }
  },
  {
   "cell_type": "code",
   "execution_count": 171,
   "outputs": [
    {
     "data": {
      "text/plain": "(array([[1., 0., 0., 0.],\n        [0., 1., 0., 0.],\n        [0., 0., 1., 0.],\n        [0., 0., 0., 1.]]),\n array([[1., 0., 0., 0.],\n        [0., 1., 0., 0.],\n        [0., 0., 1., 0.],\n        [0., 0., 0., 1.]]))"
     },
     "execution_count": 171,
     "metadata": {},
     "output_type": "execute_result"
    }
   ],
   "source": [
    "# 创建一个正方形单位矩阵\n",
    "np.eye(4), np.identity(4)"
   ],
   "metadata": {
    "collapsed": false,
    "ExecuteTime": {
     "end_time": "2023-09-21T11:14:00.808022Z",
     "start_time": "2023-09-21T11:13:59.868927Z"
    }
   }
  },
  {
   "cell_type": "markdown",
   "source": [
    "## ndarray 的数据类型"
   ],
   "metadata": {
    "collapsed": false
   }
  },
  {
   "cell_type": "code",
   "execution_count": 172,
   "outputs": [
    {
     "data": {
      "text/plain": "(dtype('float64'), dtype('int32'))"
     },
     "execution_count": 172,
     "metadata": {},
     "output_type": "execute_result"
    }
   ],
   "source": [
    "arr1 = np.array([1, 2, 3], dtype=np.float64)\n",
    "arr2 = np.array([1, 2, 3], dtype=np.int32)\n",
    "\n",
    "arr1.dtype, arr2.dtype"
   ],
   "metadata": {
    "collapsed": false,
    "ExecuteTime": {
     "end_time": "2023-09-21T11:14:00.808312Z",
     "start_time": "2023-09-21T11:13:59.872201Z"
    }
   }
  },
  {
   "cell_type": "code",
   "execution_count": 173,
   "outputs": [
    {
     "data": {
      "text/plain": "(dtype('int64'), dtype('float64'))"
     },
     "execution_count": 173,
     "metadata": {},
     "output_type": "execute_result"
    }
   ],
   "source": [
    "# 可以通过 ndarray 的 astype 方法显式地转换其 dtype\n",
    "arr = np.array([1, 2, 3, 4, 5])\n",
    "float_arr = arr.astype(np.float64)\n",
    "arr.dtype, float_arr.dtype"
   ],
   "metadata": {
    "collapsed": false,
    "ExecuteTime": {
     "end_time": "2023-09-21T11:14:00.810343Z",
     "start_time": "2023-09-21T11:13:59.875430Z"
    }
   }
  },
  {
   "cell_type": "code",
   "execution_count": 174,
   "outputs": [
    {
     "data": {
      "text/plain": "array([ 3, -1, -2,  0, 12, 10], dtype=int32)"
     },
     "execution_count": 174,
     "metadata": {},
     "output_type": "execute_result"
    }
   ],
   "source": [
    "# 也可以将浮点转换为整形，但是小数点后数值将被截断\n",
    "arr = np.array([3.7, -1.2, -2.6, 0.5, 12.9, 10.1])\n",
    "\n",
    "arr.astype(np.int32)"
   ],
   "metadata": {
    "collapsed": false,
    "ExecuteTime": {
     "end_time": "2023-09-21T11:14:00.841336Z",
     "start_time": "2023-09-21T11:13:59.878566Z"
    }
   }
  },
  {
   "cell_type": "code",
   "execution_count": 175,
   "outputs": [
    {
     "data": {
      "text/plain": "array([1.2, 2.2, 4.3])"
     },
     "execution_count": 175,
     "metadata": {},
     "output_type": "execute_result"
    }
   ],
   "source": [
    "# 元素全是字符串，也可以通过 astype 转换\n",
    "arr = np.array(['1.2', '2.2', '4.3'])\n",
    "\n",
    "arr.astype(float)"
   ],
   "metadata": {
    "collapsed": false,
    "ExecuteTime": {
     "end_time": "2023-09-21T11:14:00.841723Z",
     "start_time": "2023-09-21T11:13:59.883308Z"
    }
   }
  },
  {
   "cell_type": "markdown",
   "source": [
    "<span color='red'>astype 无论如何都会创建一个新的数组。</span>\n",
    "\n",
    "## 数组和标量之间的运算\n",
    "\n",
    "不像矩阵运算, 可以直接进行不同维度的计算，通过广播机制（后序会讲到）。"
   ],
   "metadata": {
    "collapsed": false
   }
  },
  {
   "cell_type": "code",
   "execution_count": 176,
   "outputs": [
    {
     "data": {
      "text/plain": "(array([[1., 2., 3.],\n        [4., 5., 6.]]),\n array([[ 1.,  4.,  9.],\n        [16., 25., 36.]]),\n array([[0., 0., 0.],\n        [0., 0., 0.]]),\n array([[1.        , 0.5       , 0.33333333],\n        [0.25      , 0.2       , 0.16666667]]),\n array([[1.        , 1.41421356, 1.73205081],\n        [2.        , 2.23606798, 2.44948974]]))"
     },
     "execution_count": 176,
     "metadata": {},
     "output_type": "execute_result"
    }
   ],
   "source": [
    "arr = np.array([[1., 2., 3.], [4., 5., 6.]])\n",
    "# 不像矩阵运算, 可以直接点对点乘\n",
    "arr, arr * arr, arr - arr, 1 / arr, arr ** 0.5"
   ],
   "metadata": {
    "collapsed": false,
    "ExecuteTime": {
     "end_time": "2023-09-21T11:14:00.841840Z",
     "start_time": "2023-09-21T11:13:59.887012Z"
    }
   }
  },
  {
   "cell_type": "markdown",
   "source": [
    "## 基本的索引和切片"
   ],
   "metadata": {
    "collapsed": false
   }
  },
  {
   "cell_type": "code",
   "execution_count": 177,
   "outputs": [
    {
     "data": {
      "text/plain": "5"
     },
     "execution_count": 177,
     "metadata": {},
     "output_type": "execute_result"
    }
   ],
   "source": [
    "arr = np.arange(10)\n",
    "\n",
    "arr[5]"
   ],
   "metadata": {
    "collapsed": false,
    "ExecuteTime": {
     "end_time": "2023-09-21T11:14:00.862346Z",
     "start_time": "2023-09-21T11:13:59.889703Z"
    }
   }
  },
  {
   "cell_type": "code",
   "execution_count": 178,
   "outputs": [
    {
     "data": {
      "text/plain": "array([5, 6, 7])"
     },
     "execution_count": 178,
     "metadata": {},
     "output_type": "execute_result"
    }
   ],
   "source": [
    "arr[5:8]"
   ],
   "metadata": {
    "collapsed": false,
    "ExecuteTime": {
     "end_time": "2023-09-21T11:14:00.862590Z",
     "start_time": "2023-09-21T11:13:59.892491Z"
    }
   }
  },
  {
   "cell_type": "code",
   "execution_count": 179,
   "outputs": [
    {
     "data": {
      "text/plain": "array([0, 1, 2, 3, 4, 5, 6, 7, 8, 9])"
     },
     "execution_count": 179,
     "metadata": {},
     "output_type": "execute_result"
    }
   ],
   "source": [
    "arr"
   ],
   "metadata": {
    "collapsed": false,
    "ExecuteTime": {
     "end_time": "2023-09-21T11:14:00.862725Z",
     "start_time": "2023-09-21T11:13:59.894955Z"
    }
   }
  },
  {
   "cell_type": "markdown",
   "source": [
    "标量通过赋值给一个切片时，会通过广播机制自动传播到整个切片选区。\n",
    "切片是原数组的一个视图，视图上的任何修改都会更新到原数组里。\n",
    "可以通过调用 ndarray.copy() 进行复制操作。"
   ],
   "metadata": {
    "collapsed": false
   }
  },
  {
   "cell_type": "code",
   "execution_count": 180,
   "outputs": [
    {
     "data": {
      "text/plain": "array([ 0,  1,  2,  3,  4,  5, 55,  7,  8,  9])"
     },
     "execution_count": 180,
     "metadata": {},
     "output_type": "execute_result"
    }
   ],
   "source": [
    "arr_slice = arr[5:8]\n",
    "arr_slice[1] = 55\n",
    "arr"
   ],
   "metadata": {
    "collapsed": false,
    "ExecuteTime": {
     "end_time": "2023-09-21T11:14:00.862838Z",
     "start_time": "2023-09-21T11:13:59.899126Z"
    }
   }
  },
  {
   "cell_type": "code",
   "execution_count": 181,
   "outputs": [
    {
     "data": {
      "text/plain": "array([ 0,  1,  2,  3,  4, 88, 88, 88,  8,  9])"
     },
     "execution_count": 181,
     "metadata": {},
     "output_type": "execute_result"
    }
   ],
   "source": [
    "arr_slice[:] = 88\n",
    "arr"
   ],
   "metadata": {
    "collapsed": false,
    "ExecuteTime": {
     "end_time": "2023-09-21T11:14:00.921962Z",
     "start_time": "2023-09-21T11:13:59.902317Z"
    }
   }
  },
  {
   "cell_type": "markdown",
   "source": [
    "## 切片索引\n",
    "ndarray 可以在多个维度上进行切片。"
   ],
   "metadata": {
    "collapsed": false
   }
  },
  {
   "cell_type": "code",
   "execution_count": 182,
   "outputs": [
    {
     "data": {
      "text/plain": "array([[1, 2, 3],\n       [4, 5, 6]])"
     },
     "execution_count": 182,
     "metadata": {},
     "output_type": "execute_result"
    }
   ],
   "source": [
    "arr2d = np.array([[1, 2, 3], [4, 5, 6], [7, 8, 9]])\n",
    "\n",
    "arr2d[:2]"
   ],
   "metadata": {
    "collapsed": false,
    "ExecuteTime": {
     "end_time": "2023-09-21T11:14:00.922312Z",
     "start_time": "2023-09-21T11:13:59.907128Z"
    }
   }
  },
  {
   "cell_type": "code",
   "execution_count": 183,
   "outputs": [
    {
     "data": {
      "text/plain": "array([[2, 3],\n       [5, 6]])"
     },
     "execution_count": 183,
     "metadata": {},
     "output_type": "execute_result"
    }
   ],
   "source": [
    "arr2d[:2, 1:]"
   ],
   "metadata": {
    "collapsed": false,
    "ExecuteTime": {
     "end_time": "2023-09-21T11:14:00.922904Z",
     "start_time": "2023-09-21T11:13:59.910616Z"
    }
   }
  },
  {
   "cell_type": "code",
   "execution_count": 184,
   "outputs": [],
   "source": [
    "## 布尔型索引"
   ],
   "metadata": {
    "collapsed": false,
    "ExecuteTime": {
     "end_time": "2023-09-21T11:14:00.922958Z",
     "start_time": "2023-09-21T11:13:59.913438Z"
    }
   }
  },
  {
   "cell_type": "code",
   "execution_count": 185,
   "outputs": [
    {
     "data": {
      "text/plain": "array([[ 3.93933692e-01,  1.11752934e-02,  2.73491449e-01,\n        -2.28165811e+00],\n       [ 2.66135106e-03,  4.82115758e-01,  2.45196676e-01,\n        -3.17158893e+00],\n       [-9.39742475e-01, -2.83821476e-01,  2.41852725e-01,\n        -1.67502571e+00],\n       [-3.45532673e-01, -1.00501968e+00, -1.22775518e+00,\n        -7.24467429e-01],\n       [ 4.80072716e-01,  1.19075263e+00, -9.23341373e-01,\n         2.04784027e+00],\n       [-4.48159684e-01, -2.94495537e-01,  2.96053332e-01,\n        -5.86362105e-01],\n       [ 1.95181100e+00,  3.19795551e-01,  4.20531840e-01,\n        -1.25356084e+00]])"
     },
     "execution_count": 185,
     "metadata": {},
     "output_type": "execute_result"
    }
   ],
   "source": [
    "from numpy.random import randn\n",
    "\n",
    "names = np.array(['Bob', 'Joe', 'Will', 'Bob', 'Will', 'Joe', 'Joe'])\n",
    "data = randn(7, 4)\n",
    "\n",
    "data"
   ],
   "metadata": {
    "collapsed": false,
    "ExecuteTime": {
     "end_time": "2023-09-21T11:14:00.944056Z",
     "start_time": "2023-09-21T11:13:59.916735Z"
    }
   }
  },
  {
   "cell_type": "code",
   "execution_count": 186,
   "outputs": [
    {
     "data": {
      "text/plain": "array([ True, False, False,  True, False, False, False])"
     },
     "execution_count": 186,
     "metadata": {},
     "output_type": "execute_result"
    }
   ],
   "source": [
    "names == 'Bob'"
   ],
   "metadata": {
    "collapsed": false,
    "ExecuteTime": {
     "end_time": "2023-09-21T11:14:00.944427Z",
     "start_time": "2023-09-21T11:13:59.921253Z"
    }
   }
  },
  {
   "cell_type": "markdown",
   "source": [
    "上述的布尔数组可以作为索引使用，布尔数组的维度必须和索引轴的长度一致。\n",
    "即：获取上述布尔数组为 True 的轴，获取其内的数据切片。\n",
    "该切片也是一个视图，可以通过广播对整个切片赋值，可以直接修改到原数组中。"
   ],
   "metadata": {
    "collapsed": false
   }
  },
  {
   "cell_type": "code",
   "execution_count": 187,
   "outputs": [
    {
     "data": {
      "text/plain": "array([[ 0.39393369,  0.01117529,  0.27349145, -2.28165811],\n       [-0.34553267, -1.00501968, -1.22775518, -0.72446743]])"
     },
     "execution_count": 187,
     "metadata": {},
     "output_type": "execute_result"
    }
   ],
   "source": [
    "data[names == 'Bob']"
   ],
   "metadata": {
    "collapsed": false,
    "ExecuteTime": {
     "end_time": "2023-09-21T11:14:00.944556Z",
     "start_time": "2023-09-21T11:13:59.924037Z"
    }
   }
  },
  {
   "cell_type": "code",
   "execution_count": 188,
   "outputs": [
    {
     "data": {
      "text/plain": "array([[ 2.00000000e+01,  2.00000000e+01,  2.00000000e+01,\n         2.00000000e+01],\n       [ 2.66135106e-03,  4.82115758e-01,  2.45196676e-01,\n        -3.17158893e+00],\n       [-9.39742475e-01, -2.83821476e-01,  2.41852725e-01,\n        -1.67502571e+00],\n       [ 2.00000000e+01,  2.00000000e+01,  2.00000000e+01,\n         2.00000000e+01],\n       [ 4.80072716e-01,  1.19075263e+00, -9.23341373e-01,\n         2.04784027e+00],\n       [-4.48159684e-01, -2.94495537e-01,  2.96053332e-01,\n        -5.86362105e-01],\n       [ 1.95181100e+00,  3.19795551e-01,  4.20531840e-01,\n        -1.25356084e+00]])"
     },
     "execution_count": 188,
     "metadata": {},
     "output_type": "execute_result"
    }
   ],
   "source": [
    "data[names == 'Bob'] = 20\n",
    "data"
   ],
   "metadata": {
    "collapsed": false,
    "ExecuteTime": {
     "end_time": "2023-09-21T11:14:00.944680Z",
     "start_time": "2023-09-21T11:13:59.927478Z"
    }
   }
  },
  {
   "cell_type": "markdown",
   "source": [
    "布尔数组可以作为多维切片的参数。"
   ],
   "metadata": {
    "collapsed": false
   }
  },
  {
   "cell_type": "code",
   "execution_count": 189,
   "outputs": [
    {
     "data": {
      "text/plain": "array([[20., 20., 20.],\n       [20., 20., 20.]])"
     },
     "execution_count": 189,
     "metadata": {},
     "output_type": "execute_result"
    }
   ],
   "source": [
    "data[names == 'Bob', :3]"
   ],
   "metadata": {
    "collapsed": false,
    "ExecuteTime": {
     "end_time": "2023-09-21T11:14:00.958780Z",
     "start_time": "2023-09-21T11:13:59.933686Z"
    }
   }
  },
  {
   "cell_type": "markdown",
   "source": [
    "布尔索引可以通过布尔运算将多个索引结合起来，例如: 非! 与& 或| (⚠️: or 和 and 关键字是无效的)。"
   ],
   "metadata": {
    "collapsed": false
   }
  },
  {
   "cell_type": "code",
   "execution_count": 190,
   "outputs": [
    {
     "data": {
      "text/plain": "array([[ 2.66135106e-03,  4.82115758e-01,  2.45196676e-01,\n        -3.17158893e+00],\n       [-9.39742475e-01, -2.83821476e-01,  2.41852725e-01,\n        -1.67502571e+00],\n       [ 4.80072716e-01,  1.19075263e+00, -9.23341373e-01,\n         2.04784027e+00],\n       [-4.48159684e-01, -2.94495537e-01,  2.96053332e-01,\n        -5.86362105e-01],\n       [ 1.95181100e+00,  3.19795551e-01,  4.20531840e-01,\n        -1.25356084e+00]])"
     },
     "execution_count": 190,
     "metadata": {},
     "output_type": "execute_result"
    }
   ],
   "source": [
    "data[names != 'Bob']"
   ],
   "metadata": {
    "collapsed": false,
    "ExecuteTime": {
     "end_time": "2023-09-21T11:14:00.978828Z",
     "start_time": "2023-09-21T11:13:59.942941Z"
    }
   }
  },
  {
   "cell_type": "code",
   "execution_count": 191,
   "outputs": [
    {
     "data": {
      "text/plain": "array([[ 2.00000000e+01,  2.00000000e+01,  2.00000000e+01,\n         2.00000000e+01],\n       [ 2.66135106e-03,  4.82115758e-01,  2.45196676e-01,\n        -3.17158893e+00],\n       [ 2.00000000e+01,  2.00000000e+01,  2.00000000e+01,\n         2.00000000e+01],\n       [-4.48159684e-01, -2.94495537e-01,  2.96053332e-01,\n        -5.86362105e-01],\n       [ 1.95181100e+00,  3.19795551e-01,  4.20531840e-01,\n        -1.25356084e+00]])"
     },
     "execution_count": 191,
     "metadata": {},
     "output_type": "execute_result"
    }
   ],
   "source": [
    "data[(names == 'Bob') | (names == 'Joe')]"
   ],
   "metadata": {
    "collapsed": false,
    "ExecuteTime": {
     "end_time": "2023-09-21T11:14:00.979278Z",
     "start_time": "2023-09-21T11:13:59.946809Z"
    }
   }
  },
  {
   "cell_type": "markdown",
   "source": [
    "## 花式索引 (Fancy indexing)\n",
    "花式索引可以通过整形数组进行索引，⚠️：花式索引总是会拷贝到新的数组中。"
   ],
   "metadata": {
    "collapsed": false
   }
  },
  {
   "cell_type": "code",
   "execution_count": 192,
   "outputs": [
    {
     "data": {
      "text/plain": "array([[0., 0., 0., 0.],\n       [1., 1., 1., 1.],\n       [2., 2., 2., 2.],\n       [3., 3., 3., 3.],\n       [4., 4., 4., 4.],\n       [5., 5., 5., 5.],\n       [6., 6., 6., 6.],\n       [7., 7., 7., 7.]])"
     },
     "execution_count": 192,
     "metadata": {},
     "output_type": "execute_result"
    }
   ],
   "source": [
    "arr = np.empty((8, 4))\n",
    "for i in range(8):\n",
    "    arr[i] = i\n",
    "arr"
   ],
   "metadata": {
    "collapsed": false,
    "ExecuteTime": {
     "end_time": "2023-09-21T11:14:00.999341Z",
     "start_time": "2023-09-21T11:13:59.956490Z"
    }
   }
  },
  {
   "cell_type": "code",
   "execution_count": 193,
   "outputs": [
    {
     "data": {
      "text/plain": "array([[4., 4., 4., 4.],\n       [3., 3., 3., 3.],\n       [0., 0., 0., 0.],\n       [7., 7., 7., 7.]])"
     },
     "execution_count": 193,
     "metadata": {},
     "output_type": "execute_result"
    }
   ],
   "source": [
    "# 给定的数组索引，将会按顺序被取出作为视图\n",
    "arr[[4, 3, 0, -1]]"
   ],
   "metadata": {
    "collapsed": false,
    "ExecuteTime": {
     "end_time": "2023-09-21T11:14:00.999528Z",
     "start_time": "2023-09-21T11:13:59.961530Z"
    }
   }
  },
  {
   "cell_type": "markdown",
   "source": [
    "花式索引同样可以使用到多维切片中，但是选择的数据可能不一定符合你的预期。\n",
    "如下：选取的是 （1，2), (3, 0), (5, 3), (7, 1) 这几个元素。"
   ],
   "metadata": {
    "collapsed": false
   }
  },
  {
   "cell_type": "code",
   "execution_count": 194,
   "outputs": [
    {
     "data": {
      "text/plain": "array([[ 0,  1,  2,  3],\n       [ 4,  5,  6,  7],\n       [ 8,  9, 10, 11],\n       [12, 13, 14, 15],\n       [16, 17, 18, 19],\n       [20, 21, 22, 23],\n       [24, 25, 26, 27],\n       [28, 29, 30, 31]])"
     },
     "execution_count": 194,
     "metadata": {},
     "output_type": "execute_result"
    }
   ],
   "source": [
    "arr = np.arange(32).reshape((8, 4))\n",
    "arr"
   ],
   "metadata": {
    "collapsed": false,
    "ExecuteTime": {
     "end_time": "2023-09-21T11:14:01.025913Z",
     "start_time": "2023-09-21T11:13:59.969335Z"
    }
   }
  },
  {
   "cell_type": "code",
   "execution_count": 195,
   "outputs": [
    {
     "data": {
      "text/plain": "array([ 6, 12, 23, 29])"
     },
     "execution_count": 195,
     "metadata": {},
     "output_type": "execute_result"
    }
   ],
   "source": [
    "arr[[1, 3, 5, 7], [2, 0, 3, 1]]"
   ],
   "metadata": {
    "collapsed": false,
    "ExecuteTime": {
     "end_time": "2023-09-21T11:14:01.026185Z",
     "start_time": "2023-09-21T11:13:59.973551Z"
    }
   }
  },
  {
   "cell_type": "markdown",
   "source": [
    "下面的方法可能符合你最初的预期。"
   ],
   "metadata": {
    "collapsed": false
   }
  },
  {
   "cell_type": "code",
   "execution_count": 196,
   "outputs": [
    {
     "data": {
      "text/plain": "(array([[ 4,  5,  6,  7],\n        [ 8,  9, 10, 11],\n        [20, 21, 22, 23],\n        [28, 29, 30, 31]]),\n array([[ 4,  7,  5,  6],\n        [20, 23, 21, 22],\n        [28, 31, 29, 30],\n        [ 8, 11,  9, 10]]))"
     },
     "execution_count": 196,
     "metadata": {},
     "output_type": "execute_result"
    }
   ],
   "source": [
    "# 二维度索引的 : 是必须的, 否则第一个索引取到的顺序数据将会丢失顺序。\n",
    "ret1 = arr[[1, 5, 7, 2]][[0, 3, 1, 2]]\n",
    "ret2 = arr[[1, 5, 7, 2]][:, [0, 3, 1, 2]]\n",
    "\n",
    "ret1, ret2"
   ],
   "metadata": {
    "collapsed": false,
    "ExecuteTime": {
     "end_time": "2023-09-21T11:14:01.039331Z",
     "start_time": "2023-09-21T11:13:59.983662Z"
    }
   }
  },
  {
   "cell_type": "markdown",
   "source": [
    "另一个方法是使用 np.ix_ 函数，他可以将两个整形数组转换为一个可以选区句型区域的索引器。"
   ],
   "metadata": {
    "collapsed": false
   }
  },
  {
   "cell_type": "code",
   "execution_count": 197,
   "outputs": [
    {
     "data": {
      "text/plain": "array([[ 4,  7,  5,  6],\n       [20, 23, 21, 22],\n       [28, 31, 29, 30],\n       [ 8, 11,  9, 10]])"
     },
     "execution_count": 197,
     "metadata": {},
     "output_type": "execute_result"
    }
   ],
   "source": [
    "arr[np.ix_([1, 5, 7, 2], [0, 3, 1, 2])]"
   ],
   "metadata": {
    "collapsed": false,
    "ExecuteTime": {
     "end_time": "2023-09-21T11:14:01.053486Z",
     "start_time": "2023-09-21T11:13:59.989947Z"
    }
   }
  },
  {
   "cell_type": "markdown",
   "source": [
    "## 数组的转置和轴对换\n",
    "转置也是源数据的一个视图，不会进行任何数据的复制。"
   ],
   "metadata": {
    "collapsed": false
   }
  },
  {
   "cell_type": "code",
   "execution_count": 198,
   "outputs": [
    {
     "data": {
      "text/plain": "array([[ 0,  1,  2,  3,  4],\n       [ 5,  6,  7,  8,  9],\n       [10, 11, 12, 13, 14]])"
     },
     "execution_count": 198,
     "metadata": {},
     "output_type": "execute_result"
    }
   ],
   "source": [
    "arr = np.arange(15).reshape((3, 5))\n",
    "arr"
   ],
   "metadata": {
    "collapsed": false,
    "ExecuteTime": {
     "end_time": "2023-09-21T11:14:01.073176Z",
     "start_time": "2023-09-21T11:13:59.999361Z"
    }
   }
  },
  {
   "cell_type": "code",
   "execution_count": 199,
   "outputs": [
    {
     "data": {
      "text/plain": "array([[ 0,  5, 10],\n       [ 1,  6, 11],\n       [ 2,  7, 12],\n       [ 3,  8, 13],\n       [ 4,  9, 14]])"
     },
     "execution_count": 199,
     "metadata": {},
     "output_type": "execute_result"
    }
   ],
   "source": [
    "arr.T"
   ],
   "metadata": {
    "collapsed": false,
    "ExecuteTime": {
     "end_time": "2023-09-21T11:14:01.073390Z",
     "start_time": "2023-09-21T11:14:00.003283Z"
    }
   }
  },
  {
   "cell_type": "markdown",
   "source": [
    ".T 属性在矩阵运算时会经常用到, 例如使用 np.dot 计算矩阵的内积。"
   ],
   "metadata": {
    "collapsed": false
   }
  },
  {
   "cell_type": "code",
   "execution_count": 200,
   "outputs": [
    {
     "data": {
      "text/plain": "array([[ 2.65869119,  0.15431691, -1.686852  ],\n       [ 0.15431691,  1.07401105, -1.15168519],\n       [-1.686852  , -1.15168519,  5.92022237]])"
     },
     "execution_count": 200,
     "metadata": {},
     "output_type": "execute_result"
    }
   ],
   "source": [
    "arr = np.random.randn(6, 3)\n",
    "\n",
    "np.dot(arr.T, arr)"
   ],
   "metadata": {
    "collapsed": false,
    "ExecuteTime": {
     "end_time": "2023-09-21T11:14:01.106173Z",
     "start_time": "2023-09-21T11:14:00.012312Z"
    }
   }
  },
  {
   "cell_type": "code",
   "execution_count": 201,
   "outputs": [
    {
     "data": {
      "text/plain": "array([[[ 0,  1,  2,  3],\n        [ 4,  5,  6,  7]],\n\n       [[ 8,  9, 10, 11],\n        [12, 13, 14, 15]]])"
     },
     "execution_count": 201,
     "metadata": {},
     "output_type": "execute_result"
    }
   ],
   "source": [
    "arr = np.arange(16).reshape((2, 2, 4))\n",
    "arr"
   ],
   "metadata": {
    "collapsed": false,
    "ExecuteTime": {
     "end_time": "2023-09-21T11:14:01.119591Z",
     "start_time": "2023-09-21T11:14:00.017116Z"
    }
   }
  },
  {
   "cell_type": "code",
   "execution_count": 202,
   "outputs": [
    {
     "data": {
      "text/plain": "array([[[ 0,  1,  2,  3],\n        [ 8,  9, 10, 11]],\n\n       [[ 4,  5,  6,  7],\n        [12, 13, 14, 15]]])"
     },
     "execution_count": 202,
     "metadata": {},
     "output_type": "execute_result"
    }
   ],
   "source": [
    "# 正常三维轴的顺序是 0、1、2 下面是将第 0、1 轴对调, 轴从最外层 [ 作为 0 轴开始。\n",
    "arr.transpose((1, 0, 2))"
   ],
   "metadata": {
    "collapsed": false,
    "ExecuteTime": {
     "end_time": "2023-09-21T11:14:01.119849Z",
     "start_time": "2023-09-21T11:14:00.020911Z"
    }
   }
  },
  {
   "cell_type": "markdown",
   "source": [
    "简单的转置可以使用 .T, 他其实就是进行轴对换而已。ndarray 还有一个 swapaxes 方法，他需要接收一对轴编号。"
   ],
   "metadata": {
    "collapsed": false
   }
  },
  {
   "cell_type": "code",
   "execution_count": 203,
   "outputs": [
    {
     "data": {
      "text/plain": "(array([[[ 0,  1,  2,  3],\n         [ 8,  9, 10, 11]],\n \n        [[ 4,  5,  6,  7],\n         [12, 13, 14, 15]]]),\n array([[[ 0,  4],\n         [ 1,  5],\n         [ 2,  6],\n         [ 3,  7]],\n \n        [[ 8, 12],\n         [ 9, 13],\n         [10, 14],\n         [11, 15]]]))"
     },
     "execution_count": 203,
     "metadata": {},
     "output_type": "execute_result"
    }
   ],
   "source": [
    "arr.swapaxes(0, 1), arr.swapaxes(1, 2)"
   ],
   "metadata": {
    "collapsed": false,
    "ExecuteTime": {
     "end_time": "2023-09-21T11:14:01.205026Z",
     "start_time": "2023-09-21T11:14:00.025753Z"
    }
   }
  },
  {
   "cell_type": "markdown",
   "source": [
    "# 通用函数：快速的元素级数组函数\n",
    "\n",
    "> 一元 ufunc\n",
    "\n",
    "|----|--------|\n",
    "|函数|说明|\n",
    "|`abs`、`fabs`|计算整数、浮点数、复数的绝对值。对于非复数值，可以使用更快的 fabs。|\n",
    "|`sqrt`|平方根。|\n",
    "|`square`|计算各元素的平方。|\n",
    "|`exp`|指数 $e^x$ |\n",
    "|`log`、`log10`、`log2`、`log1p`|ln, $log_{10}$, $log_2$, $log_2(1+x)$|\n",
    "|`sign`|计算元素的符号, 1/0/-1|\n",
    "|`ceil`|计算各元素的 `ceiling` 值，即上限。|\n",
    "|`floor`|计算各元素的 `floor` 值，即下限。｜\n",
    "|`rint`|四舍五入最近的整数。|\n",
    "|`modf`|将小数分离整数和小数部分。|\n",
    "|`isnan`|返回一个表示哪些值是 NaN 不是数字的布尔类型数组。|\n",
    "|`isfinite`,`isinf`|返回一个表示哪些值是有穷的、无穷的布尔类型数组。|\n",
    "|`cos`,`cosh`,`sin`,`sinh`,`tan`,`tanh`,`arccos`,`arccosh`,`arcsin`,`arcsinh`,`arctan`,`arctanh`|三角函数。|\n",
    "|`logical_not`|计算各元素 not x 的真值，相当于 -arr|"
   ],
   "metadata": {
    "collapsed": false
   }
  },
  {
   "cell_type": "code",
   "execution_count": 204,
   "outputs": [
    {
     "data": {
      "text/plain": "array([[-8, -7, -6, -5],\n       [-4, -3, -2, -1],\n       [ 0,  1,  2,  3],\n       [ 4,  5,  6,  7]])"
     },
     "execution_count": 204,
     "metadata": {},
     "output_type": "execute_result"
    }
   ],
   "source": [
    "arr = np.arange(16).reshape(4, 4) - 8\n",
    "arr"
   ],
   "metadata": {
    "collapsed": false,
    "ExecuteTime": {
     "end_time": "2023-09-21T11:14:01.205242Z",
     "start_time": "2023-09-21T11:14:00.029275Z"
    }
   }
  },
  {
   "cell_type": "code",
   "execution_count": 205,
   "outputs": [
    {
     "data": {
      "text/plain": "(array([[8, 7, 6, 5],\n        [4, 3, 2, 1],\n        [0, 1, 2, 3],\n        [4, 5, 6, 7]]),\n array([[8., 7., 6., 5.],\n        [4., 3., 2., 1.],\n        [0., 1., 2., 3.],\n        [4., 5., 6., 7.]]))"
     },
     "execution_count": 205,
     "metadata": {},
     "output_type": "execute_result"
    }
   ],
   "source": [
    "np.abs(arr), np.fabs(arr)"
   ],
   "metadata": {
    "collapsed": false,
    "ExecuteTime": {
     "end_time": "2023-09-21T11:14:01.205388Z",
     "start_time": "2023-09-21T11:14:00.032830Z"
    }
   }
  },
  {
   "cell_type": "code",
   "execution_count": 206,
   "outputs": [
    {
     "data": {
      "text/plain": "(array([[2.82842712, 2.64575131, 2.44948974, 2.23606798],\n        [2.        , 1.73205081, 1.41421356, 1.        ],\n        [0.        , 1.        , 1.41421356, 1.73205081],\n        [2.        , 2.23606798, 2.44948974, 2.64575131]]),\n array([[64, 49, 36, 25],\n        [16,  9,  4,  1],\n        [ 0,  1,  4,  9],\n        [16, 25, 36, 49]]))"
     },
     "execution_count": 206,
     "metadata": {},
     "output_type": "execute_result"
    }
   ],
   "source": [
    "np.sqrt(np.abs(arr)), np.square(arr)"
   ],
   "metadata": {
    "collapsed": false,
    "ExecuteTime": {
     "end_time": "2023-09-21T11:14:01.211791Z",
     "start_time": "2023-09-21T11:14:00.037446Z"
    }
   }
  },
  {
   "cell_type": "code",
   "execution_count": 207,
   "outputs": [
    {
     "data": {
      "text/plain": "(array([1.51542622e+01, 1.61817799e+03, 7.38905610e+00, 5.45981500e+01,\n        2.20264658e+04, 2.68811714e+43, 5.57494152e+00]),\n array([1.        , 2.        , 0.69314718, 1.38629436, 2.30258509,\n        4.60517019, 0.54132485]),\n array([0.43429448, 0.86858896, 0.30103   , 0.60205999, 1.        ,\n        2.        , 0.2350944 ]),\n array([1.44269504, 2.88539008, 1.        , 2.        , 3.32192809,\n        6.64385619, 0.78096668]),\n array([1.31326169, 2.12692801, 1.09861229, 1.60943791, 2.39789527,\n        4.61512052, 1.        ]))"
     },
     "execution_count": 207,
     "metadata": {},
     "output_type": "execute_result"
    }
   ],
   "source": [
    "abs_arr = np.array([np.e, np.e ** 2, 2, 4, 10, 100, np.e - 1])\n",
    "\n",
    "np.exp(abs_arr), np.log(abs_arr), np.log10(abs_arr), np.log2(abs_arr), np.log1p(abs_arr)"
   ],
   "metadata": {
    "collapsed": false,
    "ExecuteTime": {
     "end_time": "2023-09-21T11:14:01.257217Z",
     "start_time": "2023-09-21T11:14:00.042148Z"
    }
   }
  },
  {
   "cell_type": "code",
   "execution_count": 208,
   "outputs": [
    {
     "data": {
      "text/plain": "array([[-1, -1, -1, -1],\n       [-1, -1, -1, -1],\n       [ 0,  1,  1,  1],\n       [ 1,  1,  1,  1]])"
     },
     "execution_count": 208,
     "metadata": {},
     "output_type": "execute_result"
    }
   ],
   "source": [
    "np.sign(arr)"
   ],
   "metadata": {
    "collapsed": false,
    "ExecuteTime": {
     "end_time": "2023-09-21T11:14:01.292306Z",
     "start_time": "2023-09-21T11:14:00.046819Z"
    }
   }
  },
  {
   "cell_type": "code",
   "execution_count": 209,
   "outputs": [
    {
     "data": {
      "text/plain": "(array([ 0.9037445 ,  0.54546647,  0.7536844 , -0.26387324]),\n array([ 1.,  1.,  1., -0.]),\n array([ 0.,  0.,  0., -1.]),\n array([ 1.,  1.,  1., -0.]),\n (array([ 0.9037445 ,  0.54546647,  0.7536844 , -0.26387324]),\n  array([ 0.,  0.,  0., -0.])))"
     },
     "execution_count": 209,
     "metadata": {},
     "output_type": "execute_result"
    }
   ],
   "source": [
    "arr = np.random.randn(4)\n",
    "\n",
    "arr, np.ceil(arr), np.floor(arr), np.rint(arr), np.modf(arr)"
   ],
   "metadata": {
    "collapsed": false,
    "ExecuteTime": {
     "end_time": "2023-09-21T11:14:01.304453Z",
     "start_time": "2023-09-21T11:14:00.052434Z"
    }
   }
  },
  {
   "cell_type": "markdown",
   "source": [
    "\n",
    "> 二元 ufunc\n",
    "\n",
    "|----|--------|\n",
    "|函数|说明|\n",
    "|`add`｜将数组中对应的元素相加|\n",
    "|`subtract`|将第一个数组中减去第二个数组中的元素|\n",
    "|`multiply`|数组元素相乘|\n",
    "|`divide`, `floor_divide`|除法或向下圆整除法(丢弃余数)|\n",
    "|`power`|对第一个数组中的元素A, 根据第二个数组 B 中的相应元素算A ^ B|\n",
    "|`maximum`, `fmax`|元素级的最大值计算。fmax 将忽略 NaN |\n",
    "|`minimum`, `fmin`|元素级的最小值计算。fmin 将忽略 NaN |\n",
    "|`mod`|元素级的求模计算|\n",
    "|`copysign`|将第二个数组中的值的符号复制给第一个数值中的值 |\n",
    "|`greater`, `greater_equal`, `less`, `less_equal`, `equal`, `not_equal`| 执行元素级的比较运算，最终产生布尔型数组。相当于中缀运算符 >, >=, <, <=, ==, != |\n",
    "|`logical_and`,`logical_or`,`logical_xor`|执行元素级的真值逻辑运算。相当于中缀运算符 &, |, ^ |"
   ],
   "metadata": {
    "collapsed": false
   }
  },
  {
   "cell_type": "markdown",
   "source": [
    "# 利用数组进行数据处理\n",
    "\n",
    "np.meshgrid 函数接收两个一位数组，并产生两个二位矩阵（表示两个一位数组对应所有的(x, y) 对）。"
   ],
   "metadata": {
    "collapsed": false
   }
  },
  {
   "cell_type": "code",
   "execution_count": 210,
   "outputs": [
    {
     "data": {
      "text/plain": "<matplotlib.colorbar.Colorbar at 0x176d9eeb0>"
     },
     "execution_count": 210,
     "metadata": {},
     "output_type": "execute_result"
    },
    {
     "data": {
      "text/plain": "<Figure size 640x480 with 2 Axes>",
      "image/png": "[encoded data removed]"
     },
     "metadata": {},
     "output_type": "display_data"
    }
   ],
   "source": [
    "points = np.arange(-5, 5, 0.01)\n",
    "\n",
    "xs, ys = np.meshgrid(points, points)\n",
    "\n",
    "z = np.sqrt(xs ** 2 + ys ** 2)\n",
    "\n",
    "plt.imshow(z, cmap=plt.cm.gray)\n",
    "plt.colorbar()"
   ],
   "metadata": {
    "collapsed": false,
    "ExecuteTime": {
     "end_time": "2023-09-21T11:14:01.674692Z",
     "start_time": "2023-09-21T11:14:00.057740Z"
    }
   }
  },
  {
   "cell_type": "markdown",
   "source": [
    "## 将条件逻辑表述为数组运算\n",
    "numpy.where 是三元表达式 x if condition else y 的矢量化版本。\n",
    "numpy.where 第 2，3 个参数可以不是数组，可以是标量，将会通过广播进行标量赋值。\n",
    "\n",
    "## 数学和统计方法\n",
    "sum, mean, std(标准差), var(方差), min, max, argmin(最小值索引), argmax(最大值索引), cumsum, cumprod"
   ],
   "metadata": {
    "collapsed": false
   }
  },
  {
   "cell_type": "code",
   "execution_count": 211,
   "outputs": [
    {
     "data": {
      "text/plain": "(7.5, 120)"
     },
     "execution_count": 211,
     "metadata": {},
     "output_type": "execute_result"
    }
   ],
   "source": [
    "arr = np.arange(16).reshape(4, 4)\n",
    "\n",
    "arr.mean(), arr.sum()"
   ],
   "metadata": {
    "collapsed": false,
    "ExecuteTime": {
     "end_time": "2023-09-21T11:14:01.675353Z",
     "start_time": "2023-09-21T11:14:00.241868Z"
    }
   }
  },
  {
   "cell_type": "code",
   "execution_count": 212,
   "outputs": [
    {
     "data": {
      "text/plain": "(array([6., 7., 8., 9.]), array([ 6, 22, 38, 54]))"
     },
     "execution_count": 212,
     "metadata": {},
     "output_type": "execute_result"
    }
   ],
   "source": [
    "# mean, sum 可以接受一个参数，表示要聚合的轴\n",
    "arr.mean(0), arr.sum(1)"
   ],
   "metadata": {
    "collapsed": false,
    "ExecuteTime": {
     "end_time": "2023-09-21T11:14:01.675467Z",
     "start_time": "2023-09-21T11:14:00.248886Z"
    }
   }
  },
  {
   "cell_type": "code",
   "execution_count": 213,
   "outputs": [
    {
     "data": {
      "text/plain": "(array([  0,   1,   3,   6,  10,  15,  21,  28,  36,  45,  55,  66,  78,\n         91, 105, 120]),\n array([0, 0, 0, 0, 0, 0, 0, 0, 0, 0, 0, 0, 0, 0, 0, 0]))"
     },
     "execution_count": 213,
     "metadata": {},
     "output_type": "execute_result"
    }
   ],
   "source": [
    "arr.cumsum(), arr.cumprod()"
   ],
   "metadata": {
    "collapsed": false,
    "ExecuteTime": {
     "end_time": "2023-09-21T11:14:01.675617Z",
     "start_time": "2023-09-21T11:14:00.252059Z"
    }
   }
  },
  {
   "cell_type": "code",
   "execution_count": 214,
   "outputs": [
    {
     "data": {
      "text/plain": "(array([[ 0,  1,  2,  3],\n        [ 4,  6,  8, 10],\n        [12, 15, 18, 21],\n        [24, 28, 32, 36]]),\n array([[   0,    1,    2,    3],\n        [   0,    5,   12,   21],\n        [   0,   45,  120,  231],\n        [   0,  585, 1680, 3465]]))"
     },
     "execution_count": 214,
     "metadata": {},
     "output_type": "execute_result"
    }
   ],
   "source": [
    "# cumsum、cumprod也可以指定一个轴，向一个方向生成一个中间结果的数组。\n",
    "arr.cumsum(0), arr.cumprod(0)"
   ],
   "metadata": {
    "collapsed": false,
    "ExecuteTime": {
     "end_time": "2023-09-21T11:14:01.675722Z",
     "start_time": "2023-09-21T11:14:00.255803Z"
    }
   }
  },
  {
   "cell_type": "markdown",
   "source": [
    "## 用于布尔型数组的方法\n",
    "\n",
    "布尔值会被强制转换为 1(True) 和 0(False)。因此 sum 经常被用来对布尔类型数组的 True 值计数。"
   ],
   "metadata": {
    "collapsed": false
   }
  },
  {
   "cell_type": "code",
   "execution_count": 215,
   "outputs": [
    {
     "data": {
      "text/plain": "53"
     },
     "execution_count": 215,
     "metadata": {},
     "output_type": "execute_result"
    }
   ],
   "source": [
    "arr = randn(100)\n",
    "\n",
    "(arr > 0).sum()"
   ],
   "metadata": {
    "collapsed": false,
    "ExecuteTime": {
     "end_time": "2023-09-21T11:14:01.677896Z",
     "start_time": "2023-09-21T11:14:00.259240Z"
    }
   }
  },
  {
   "cell_type": "code",
   "execution_count": 216,
   "outputs": [
    {
     "data": {
      "text/plain": "(True, False)"
     },
     "execution_count": 216,
     "metadata": {},
     "output_type": "execute_result"
    }
   ],
   "source": [
    "bools = np.array([False, False, True, False])\n",
    "\n",
    "# any 是判断数组中任何一个为 True, all 是判断数组中所有元素为 True\n",
    "bools.any(), bools.all()"
   ],
   "metadata": {
    "collapsed": false,
    "ExecuteTime": {
     "end_time": "2023-09-21T11:14:01.678023Z",
     "start_time": "2023-09-21T11:14:00.264301Z"
    }
   }
  },
  {
   "cell_type": "markdown",
   "source": [
    "## 排序\n",
    "\n",
    "numpy 数组也可以通过 sort 方法就地排序。"
   ],
   "metadata": {
    "collapsed": false
   }
  },
  {
   "cell_type": "code",
   "execution_count": 217,
   "outputs": [
    {
     "data": {
      "text/plain": "array([ 0.6941409 ,  0.22974288, -1.25375032,  0.14485753,  0.8307874 ,\n        0.39123123,  0.59628902, -1.33081962])"
     },
     "execution_count": 217,
     "metadata": {},
     "output_type": "execute_result"
    }
   ],
   "source": [
    "arr = randn(8)\n",
    "\n",
    "arr"
   ],
   "metadata": {
    "collapsed": false,
    "ExecuteTime": {
     "end_time": "2023-09-21T11:14:01.678132Z",
     "start_time": "2023-09-21T11:14:00.273680Z"
    }
   }
  },
  {
   "cell_type": "code",
   "execution_count": 218,
   "outputs": [
    {
     "data": {
      "text/plain": "array([-1.33081962, -1.25375032,  0.14485753,  0.22974288,  0.39123123,\n        0.59628902,  0.6941409 ,  0.8307874 ])"
     },
     "execution_count": 218,
     "metadata": {},
     "output_type": "execute_result"
    }
   ],
   "source": [
    "arr.sort()\n",
    "\n",
    "arr"
   ],
   "metadata": {
    "collapsed": false,
    "ExecuteTime": {
     "end_time": "2023-09-21T11:14:01.680188Z",
     "start_time": "2023-09-21T11:14:00.278617Z"
    }
   }
  },
  {
   "cell_type": "markdown",
   "source": [
    "多维数组可以在任何一个轴向上进行排序，只需将轴编号传给 sort 即可。 沿该轴方向，而不是排序该轴。"
   ],
   "metadata": {
    "collapsed": false
   }
  },
  {
   "cell_type": "code",
   "execution_count": 219,
   "outputs": [
    {
     "data": {
      "text/plain": "array([[ 1.06758681,  1.94501816, -1.5945284 ],\n       [ 1.3434084 ,  0.50981393,  0.22673283],\n       [-2.07829092, -0.82522221, -0.07027903],\n       [ 0.48883537, -1.5006741 , -1.35003308],\n       [-0.93421102, -0.21100707,  1.01179991]])"
     },
     "execution_count": 219,
     "metadata": {},
     "output_type": "execute_result"
    }
   ],
   "source": [
    "arr = randn(5, 3)\n",
    "arr"
   ],
   "metadata": {
    "collapsed": false,
    "ExecuteTime": {
     "end_time": "2023-09-21T11:14:01.680308Z",
     "start_time": "2023-09-21T11:14:00.283746Z"
    }
   }
  },
  {
   "cell_type": "code",
   "execution_count": 220,
   "outputs": [
    {
     "data": {
      "text/plain": "array([[-2.07829092, -1.5006741 , -1.5945284 ],\n       [-0.93421102, -0.82522221, -1.35003308],\n       [ 0.48883537, -0.21100707, -0.07027903],\n       [ 1.06758681,  0.50981393,  0.22673283],\n       [ 1.3434084 ,  1.94501816,  1.01179991]])"
     },
     "execution_count": 220,
     "metadata": {},
     "output_type": "execute_result"
    }
   ],
   "source": [
    "arr.sort(0)\n",
    "arr"
   ],
   "metadata": {
    "collapsed": false,
    "ExecuteTime": {
     "end_time": "2023-09-21T11:14:01.680415Z",
     "start_time": "2023-09-21T11:14:00.289208Z"
    }
   }
  },
  {
   "cell_type": "markdown",
   "source": [
    "## 唯一化以及其他的集合逻辑\n",
    "\n",
    "* np.unique 会去重数组并返回一排序的结果。\n",
    "* np.in1d 用于测试一个数组中的值在另一个数组中的成员资格，返回一个 bool 数组。"
   ],
   "metadata": {
    "collapsed": false
   }
  },
  {
   "cell_type": "code",
   "execution_count": 221,
   "outputs": [
    {
     "data": {
      "text/plain": "array(['Bob', 'Joe', 'Will'], dtype='<U4')"
     },
     "execution_count": 221,
     "metadata": {},
     "output_type": "execute_result"
    }
   ],
   "source": [
    "np.unique(names)"
   ],
   "metadata": {
    "collapsed": false,
    "ExecuteTime": {
     "end_time": "2023-09-21T11:14:01.680515Z",
     "start_time": "2023-09-21T11:14:00.294318Z"
    }
   }
  },
  {
   "cell_type": "code",
   "execution_count": 222,
   "outputs": [
    {
     "data": {
      "text/plain": "array([False, False,  True,  True, False,  True])"
     },
     "execution_count": 222,
     "metadata": {},
     "output_type": "execute_result"
    }
   ],
   "source": [
    "np.in1d(np.arange(6), [2, 3, 5])"
   ],
   "metadata": {
    "collapsed": false,
    "ExecuteTime": {
     "end_time": "2023-09-21T11:14:01.680614Z",
     "start_time": "2023-09-21T11:14:00.300910Z"
    }
   }
  },
  {
   "cell_type": "markdown",
   "source": [
    "*数组的集合运算*\n",
    "\n",
    "* intersect1d(x, y): 计算 x, y 中的公共元素, 并返回有序结果\n",
    "* union1d(x, y): 计算 x, y 的并集\n",
    "* setdiff1d(x, y): 集合的差, 即元素在 x 中且不存在 y 中的元素\n",
    "* setxor1d(x, y): 集合的对称差, 即 不同时存在 x, y 中的元素"
   ],
   "metadata": {
    "collapsed": false
   }
  },
  {
   "cell_type": "markdown",
   "source": [
    "# 用于数组的文件输入输出\n",
    "\n",
    "## 将数组以二进制格式保存到磁盘\n",
    "\n",
    "np.save 和 np.load 可以来读写磁盘数组数据, 以未压缩的原始二进制格式保存在扩展名为 npy 的文件中。"
   ],
   "metadata": {
    "collapsed": false
   }
  },
  {
   "cell_type": "code",
   "execution_count": 223,
   "outputs": [],
   "source": [
    "arr = np.arange(100)\n",
    "\n",
    "np.save(\"./temp\", arr)"
   ],
   "metadata": {
    "collapsed": false,
    "ExecuteTime": {
     "end_time": "2023-09-21T11:14:01.680666Z",
     "start_time": "2023-09-21T11:14:00.304254Z"
    }
   }
  },
  {
   "cell_type": "code",
   "execution_count": 224,
   "outputs": [
    {
     "data": {
      "text/plain": "array([ 0,  1,  2,  3,  4,  5,  6,  7,  8,  9, 10, 11, 12, 13, 14, 15, 16,\n       17, 18, 19, 20, 21, 22, 23, 24, 25, 26, 27, 28, 29, 30, 31, 32, 33,\n       34, 35, 36, 37, 38, 39, 40, 41, 42, 43, 44, 45, 46, 47, 48, 49, 50,\n       51, 52, 53, 54, 55, 56, 57, 58, 59, 60, 61, 62, 63, 64, 65, 66, 67,\n       68, 69, 70, 71, 72, 73, 74, 75, 76, 77, 78, 79, 80, 81, 82, 83, 84,\n       85, 86, 87, 88, 89, 90, 91, 92, 93, 94, 95, 96, 97, 98, 99])"
     },
     "execution_count": 224,
     "metadata": {},
     "output_type": "execute_result"
    }
   ],
   "source": [
    "arr = np.load(\"./temp.npy\")\n",
    "\n",
    "arr"
   ],
   "metadata": {
    "collapsed": false,
    "ExecuteTime": {
     "end_time": "2023-09-21T11:14:01.680787Z",
     "start_time": "2023-09-21T11:14:00.309295Z"
    }
   }
  },
  {
   "cell_type": "markdown",
   "source": [
    "## 存取文本文件"
   ],
   "metadata": {
    "collapsed": false
   }
  },
  {
   "cell_type": "code",
   "execution_count": 225,
   "outputs": [],
   "source": [
    "np.savetxt(\"temp.txt\", np.arange(16).reshape(4, 4), delimiter=\",\")"
   ],
   "metadata": {
    "collapsed": false,
    "ExecuteTime": {
     "end_time": "2023-09-21T11:14:01.680876Z",
     "start_time": "2023-09-21T11:14:00.315738Z"
    }
   }
  },
  {
   "cell_type": "code",
   "execution_count": 226,
   "outputs": [
    {
     "data": {
      "text/plain": "array([[ 0,  1,  2,  3],\n       [ 4,  5,  6,  7],\n       [ 8,  9, 10, 11],\n       [12, 13, 14, 15]])"
     },
     "execution_count": 226,
     "metadata": {},
     "output_type": "execute_result"
    }
   ],
   "source": [
    "np.loadtxt(\"temp.txt\", delimiter=\",\").astype(int)"
   ],
   "metadata": {
    "collapsed": false,
    "ExecuteTime": {
     "end_time": "2023-09-21T11:14:01.681022Z",
     "start_time": "2023-09-21T11:14:00.321735Z"
    }
   }
  },
  {
   "cell_type": "markdown",
   "source": [
    "# 线性代数"
   ],
   "metadata": {
    "collapsed": false
   }
  },
  {
   "cell_type": "code",
   "execution_count": 227,
   "outputs": [
    {
     "data": {
      "text/plain": "(array([0, 3]),\n array([[1, 0, 0, 0],\n        [0, 2, 0, 0],\n        [0, 0, 3, 0],\n        [0, 0, 0, 4]]))"
     },
     "execution_count": 227,
     "metadata": {},
     "output_type": "execute_result"
    }
   ],
   "source": [
    "arr = np.arange(4).reshape(2, 2)\n",
    "\n",
    "# 返回方阵的对角线元素，或者将 1维数组转换为方阵其余元素都为0.\n",
    "np.diag(arr), np.diag(np.array([1, 2, 3, 4]))"
   ],
   "metadata": {
    "collapsed": false,
    "ExecuteTime": {
     "end_time": "2023-09-21T11:14:01.695231Z",
     "start_time": "2023-09-21T11:14:00.327272Z"
    }
   }
  },
  {
   "cell_type": "code",
   "execution_count": 228,
   "outputs": [
    {
     "data": {
      "text/plain": "array([[ 2,  3],\n       [ 6, 11]])"
     },
     "execution_count": 228,
     "metadata": {},
     "output_type": "execute_result"
    }
   ],
   "source": [
    "# 点积\n",
    "np.dot(arr, arr)"
   ],
   "metadata": {
    "collapsed": false,
    "ExecuteTime": {
     "end_time": "2023-09-21T11:14:01.695535Z",
     "start_time": "2023-09-21T11:14:00.334044Z"
    }
   }
  },
  {
   "cell_type": "code",
   "execution_count": 229,
   "outputs": [
    {
     "data": {
      "text/plain": "3"
     },
     "execution_count": 229,
     "metadata": {},
     "output_type": "execute_result"
    }
   ],
   "source": [
    "# 对角线元素的和\n",
    "np.trace(arr)"
   ],
   "metadata": {
    "collapsed": false,
    "ExecuteTime": {
     "end_time": "2023-09-21T11:14:01.695643Z",
     "start_time": "2023-09-21T11:14:00.340696Z"
    }
   }
  },
  {
   "cell_type": "code",
   "execution_count": 230,
   "outputs": [
    {
     "data": {
      "text/plain": "-2.0"
     },
     "execution_count": 230,
     "metadata": {},
     "output_type": "execute_result"
    }
   ],
   "source": [
    "# 行列式的值\n",
    "np.linalg.det(arr)"
   ],
   "metadata": {
    "collapsed": false,
    "ExecuteTime": {
     "end_time": "2023-09-21T11:14:01.695818Z",
     "start_time": "2023-09-21T11:14:00.346696Z"
    }
   }
  },
  {
   "cell_type": "code",
   "execution_count": 231,
   "outputs": [
    {
     "data": {
      "text/plain": "(array([-0.56155281,  3.56155281]),\n array([[-0.87192821, -0.27032301],\n        [ 0.48963374, -0.96276969]]))"
     },
     "execution_count": 231,
     "metadata": {},
     "output_type": "execute_result"
    }
   ],
   "source": [
    "# 本征值和本征向量, 特征值和特征向量\n",
    "np.linalg.eig(arr)"
   ],
   "metadata": {
    "collapsed": false,
    "ExecuteTime": {
     "end_time": "2023-09-21T11:14:01.695941Z",
     "start_time": "2023-09-21T11:14:00.353404Z"
    }
   }
  },
  {
   "cell_type": "code",
   "execution_count": 232,
   "outputs": [
    {
     "data": {
      "text/plain": "array([[-1.5,  0.5],\n       [ 1. ,  0. ]])"
     },
     "execution_count": 232,
     "metadata": {},
     "output_type": "execute_result"
    }
   ],
   "source": [
    "# 方阵的逆\n",
    "np.linalg.inv(arr)"
   ],
   "metadata": {
    "collapsed": false,
    "ExecuteTime": {
     "end_time": "2023-09-21T11:14:01.696071Z",
     "start_time": "2023-09-21T11:14:00.357249Z"
    }
   }
  },
  {
   "cell_type": "code",
   "execution_count": 233,
   "outputs": [
    {
     "data": {
      "text/plain": "array([[-1.50000000e+00,  5.00000000e-01],\n       [ 1.00000000e+00,  4.21097322e-17]])"
     },
     "execution_count": 233,
     "metadata": {},
     "output_type": "execute_result"
    }
   ],
   "source": [
    "# 矩阵的 Moore-Penrose 伪逆\n",
    "np.linalg.pinv(arr)"
   ],
   "metadata": {
    "collapsed": false,
    "ExecuteTime": {
     "end_time": "2023-09-21T11:14:01.696245Z",
     "start_time": "2023-09-21T11:14:00.363179Z"
    }
   }
  },
  {
   "cell_type": "code",
   "execution_count": 234,
   "outputs": [
    {
     "data": {
      "text/plain": "(array([[ 0., -1.],\n        [-1.,  0.]]),\n array([[-2., -3.],\n        [ 0., -1.]]))"
     },
     "execution_count": 234,
     "metadata": {},
     "output_type": "execute_result"
    }
   ],
   "source": [
    "# QR 分解\n",
    "np.linalg.qr(arr)"
   ],
   "metadata": {
    "collapsed": false,
    "ExecuteTime": {
     "end_time": "2023-09-21T11:14:01.696353Z",
     "start_time": "2023-09-21T11:14:00.368384Z"
    }
   }
  },
  {
   "cell_type": "code",
   "execution_count": 235,
   "outputs": [
    {
     "data": {
      "text/plain": "(array([[-0.22975292, -0.97324899],\n        [-0.97324899,  0.22975292]]),\n array([3.70245917, 0.54018151]),\n array([[-0.52573111, -0.85065081],\n        [ 0.85065081, -0.52573111]]))"
     },
     "execution_count": 235,
     "metadata": {},
     "output_type": "execute_result"
    }
   ],
   "source": [
    "# SVD 分解, 奇异值分解\n",
    "np.linalg.svd(arr)"
   ],
   "metadata": {
    "collapsed": false,
    "ExecuteTime": {
     "end_time": "2023-09-21T11:14:01.696471Z",
     "start_time": "2023-09-21T11:14:00.372302Z"
    }
   }
  },
  {
   "cell_type": "code",
   "execution_count": 236,
   "outputs": [
    {
     "data": {
      "text/plain": "array([0., 1.])"
     },
     "execution_count": 236,
     "metadata": {},
     "output_type": "execute_result"
    }
   ],
   "source": [
    "# Ax = b 的解\n",
    "np.linalg.solve(arr, [1, 3])"
   ],
   "metadata": {
    "collapsed": false,
    "ExecuteTime": {
     "end_time": "2023-09-21T11:14:01.696604Z",
     "start_time": "2023-09-21T11:14:00.376301Z"
    }
   }
  },
  {
   "cell_type": "code",
   "execution_count": 237,
   "outputs": [
    {
     "data": {
      "text/plain": "(array([3.44207776e-17, 1.00000000e+00]),\n array([], dtype=float64),\n 2,\n array([3.70245917, 0.54018151]))"
     },
     "execution_count": 237,
     "metadata": {},
     "output_type": "execute_result"
    }
   ],
   "source": [
    "# Ax = b 的最小二乘解\n",
    "np.linalg.lstsq(arr, [1, 3], rcond=None)"
   ],
   "metadata": {
    "collapsed": false,
    "ExecuteTime": {
     "end_time": "2023-09-21T11:14:01.696712Z",
     "start_time": "2023-09-21T11:14:00.383606Z"
    }
   }
  },
  {
   "cell_type": "markdown",
   "source": [
    "# 随机数的生成\n",
    "\n",
    "numpy.random 包里的函数"
   ],
   "metadata": {
    "collapsed": false
   }
  },
  {
   "cell_type": "code",
   "execution_count": 238,
   "outputs": [],
   "source": [
    "import numpy.random as npr\n",
    "\n",
    "# 确定随机数生成器的种子\n",
    "npr.seed(99)"
   ],
   "metadata": {
    "collapsed": false,
    "ExecuteTime": {
     "end_time": "2023-09-21T11:14:01.696761Z",
     "start_time": "2023-09-21T11:14:00.386342Z"
    }
   }
  },
  {
   "cell_type": "code",
   "execution_count": 239,
   "outputs": [
    {
     "data": {
      "text/plain": "array([8, 5, 4, 2, 6, 7, 0, 9, 3, 1])"
     },
     "execution_count": 239,
     "metadata": {},
     "output_type": "execute_result"
    }
   ],
   "source": [
    "# 返回一个序列的随机排列\n",
    "npr.permutation(10)"
   ],
   "metadata": {
    "collapsed": false,
    "ExecuteTime": {
     "end_time": "2023-09-21T11:14:01.696867Z",
     "start_time": "2023-09-21T11:14:00.388830Z"
    }
   }
  },
  {
   "cell_type": "code",
   "execution_count": 240,
   "outputs": [
    {
     "data": {
      "text/plain": "array([33,  2, 99,  1])"
     },
     "execution_count": 240,
     "metadata": {},
     "output_type": "execute_result"
    }
   ],
   "source": [
    "# 对一个序列就地随机排列\n",
    "arr = np.array([1, 99, 2, 33])\n",
    "npr.shuffle(arr)\n",
    "arr"
   ],
   "metadata": {
    "collapsed": false,
    "ExecuteTime": {
     "end_time": "2023-09-21T11:14:01.696998Z",
     "start_time": "2023-09-21T11:14:00.392284Z"
    }
   }
  },
  {
   "cell_type": "code",
   "execution_count": 241,
   "outputs": [
    {
     "data": {
      "text/plain": "array([[0.2976225 , 0.04669572],\n       [0.9906274 , 0.00682573],\n       [0.76979303, 0.7467671 ],\n       [0.37743894, 0.49414745]])"
     },
     "execution_count": 241,
     "metadata": {},
     "output_type": "execute_result"
    }
   ],
   "source": [
    "# 产生均匀分布的样本值\n",
    "\n",
    "npr.rand(4, 2)"
   ],
   "metadata": {
    "collapsed": false,
    "ExecuteTime": {
     "end_time": "2023-09-21T11:14:01.697096Z",
     "start_time": "2023-09-21T11:14:00.395746Z"
    }
   }
  },
  {
   "cell_type": "code",
   "execution_count": 242,
   "outputs": [
    {
     "data": {
      "text/plain": "array([[9, 5],\n       [8, 6],\n       [5, 2]])"
     },
     "execution_count": 242,
     "metadata": {},
     "output_type": "execute_result"
    }
   ],
   "source": [
    "# 产生上下范围内的随机整数\n",
    "npr.randint(1, 10, size=(3, 2))"
   ],
   "metadata": {
    "collapsed": false,
    "ExecuteTime": {
     "end_time": "2023-09-21T11:14:01.697192Z",
     "start_time": "2023-09-21T11:14:00.399232Z"
    }
   }
  },
  {
   "cell_type": "code",
   "execution_count": 243,
   "outputs": [
    {
     "data": {
      "text/plain": "array([[-1.02694982,  0.98287615, -0.15798408,  0.74150626],\n       [-0.53346074,  0.09899394, -1.48448745,  0.83376917],\n       [ 0.0805954 , -0.82194336, -0.84877628, -0.37595761],\n       [-0.87698275,  1.47465244, -0.98302221, -0.60549964]])"
     },
     "execution_count": 243,
     "metadata": {},
     "output_type": "execute_result"
    }
   ],
   "source": [
    "# 产生标准正态分布的样本值\n",
    "# npr.normal(0, 1, size=(4, 4)) 一样的效果\n",
    "npr.randn(4, 4)"
   ],
   "metadata": {
    "collapsed": false,
    "ExecuteTime": {
     "end_time": "2023-09-21T11:14:01.697324Z",
     "start_time": "2023-09-21T11:14:00.403341Z"
    }
   }
  },
  {
   "cell_type": "code",
   "execution_count": 244,
   "outputs": [
    {
     "data": {
      "text/plain": "array([[4, 2],\n       [2, 1],\n       [4, 5],\n       [1, 3]])"
     },
     "execution_count": 244,
     "metadata": {},
     "output_type": "execute_result"
    }
   ],
   "source": [
    "# 产生二项分布的样本值\n",
    "npr.binomial(10, 0.2, size=(4, 2))"
   ],
   "metadata": {
    "collapsed": false,
    "ExecuteTime": {
     "end_time": "2023-09-21T11:14:01.697422Z",
     "start_time": "2023-09-21T11:14:00.406367Z"
    }
   }
  },
  {
   "cell_type": "code",
   "execution_count": 245,
   "outputs": [
    {
     "data": {
      "text/plain": "array([[10.28341531,  8.95565796],\n       [ 9.58028222, 10.56238269],\n       [ 8.642957  ,  6.95501362],\n       [10.06769239,  7.38196985]])"
     },
     "execution_count": 245,
     "metadata": {},
     "output_type": "execute_result"
    }
   ],
   "source": [
    "# 产生正态分布的样本值\n",
    "npr.normal(10, 2, size=(4, 2))"
   ],
   "metadata": {
    "collapsed": false,
    "ExecuteTime": {
     "end_time": "2023-09-21T11:14:01.697544Z",
     "start_time": "2023-09-21T11:14:00.409726Z"
    }
   }
  },
  {
   "cell_type": "code",
   "execution_count": 246,
   "outputs": [
    {
     "data": {
      "text/plain": "array([[0.1842415 , 0.2740288 , 0.26323656, 0.22661194],\n       [0.40280601, 0.2764895 , 0.7922494 , 0.43211369],\n       [0.43072492, 0.15694032, 0.30685063, 0.32730041],\n       [0.16490009, 0.16147369, 0.48589343, 0.41519352]])"
     },
     "execution_count": 246,
     "metadata": {},
     "output_type": "execute_result"
    }
   ],
   "source": [
    "# 产生 Beta 分布的样本值\n",
    "npr.beta(2, 5, size=(4, 4))"
   ],
   "metadata": {
    "collapsed": false,
    "ExecuteTime": {
     "end_time": "2023-09-21T11:14:01.697676Z",
     "start_time": "2023-09-21T11:14:00.412884Z"
    }
   }
  },
  {
   "cell_type": "code",
   "execution_count": 247,
   "outputs": [
    {
     "data": {
      "text/plain": "array([[1.36486147, 0.92164911],\n       [1.75582545, 0.72900706]])"
     },
     "execution_count": 247,
     "metadata": {},
     "output_type": "execute_result"
    }
   ],
   "source": [
    "# 卡方分布\n",
    "# df: degree of freedom 自由度\n",
    "npr.chisquare(df=2, size=(2, 2))"
   ],
   "metadata": {
    "collapsed": false,
    "ExecuteTime": {
     "end_time": "2023-09-21T11:14:01.697793Z",
     "start_time": "2023-09-21T11:14:00.416301Z"
    }
   }
  },
  {
   "cell_type": "code",
   "execution_count": 248,
   "outputs": [
    {
     "data": {
      "text/plain": "<Figure size 640x480 with 1 Axes>",
      "image/png": "[encoded data removed]"
     },
     "metadata": {},
     "output_type": "display_data"
    }
   ],
   "source": [
    "# 卡方分布可视化\n",
    "from numpy import random\n",
    "import matplotlib.pyplot as plt\n",
    "import seaborn as sns\n",
    "sns.histplot(random.chisquare(df=1, size=1000))\n",
    "plt.show()"
   ],
   "metadata": {
    "collapsed": false,
    "ExecuteTime": {
     "end_time": "2023-09-21T11:14:01.701407Z",
     "start_time": "2023-09-21T11:14:00.422587Z"
    }
   }
  },
  {
   "cell_type": "code",
   "execution_count": 249,
   "outputs": [
    {
     "data": {
      "text/plain": "5.609634062379228"
     },
     "execution_count": 249,
     "metadata": {},
     "output_type": "execute_result"
    }
   ],
   "source": [
    "# gamma 分布\n",
    "npr.gamma(4)"
   ],
   "metadata": {
    "collapsed": false,
    "ExecuteTime": {
     "end_time": "2023-09-21T11:14:01.701632Z",
     "start_time": "2023-09-21T11:14:00.520193Z"
    }
   }
  },
  {
   "cell_type": "code",
   "execution_count": 250,
   "outputs": [
    {
     "data": {
      "text/plain": "0.6804910036965087"
     },
     "execution_count": 250,
     "metadata": {},
     "output_type": "execute_result"
    }
   ],
   "source": [
    "# 均匀分布\n",
    "npr.uniform()"
   ],
   "metadata": {
    "collapsed": false,
    "ExecuteTime": {
     "end_time": "2023-09-21T11:14:01.701879Z",
     "start_time": "2023-09-21T11:14:00.525085Z"
    }
   }
  }
 ],
 "metadata": {
  "kernelspec": {
   "display_name": "Python 3",
   "language": "python",
   "name": "python3"
  },
  "language_info": {
   "codemirror_mode": {
    "name": "ipython",
    "version": 2
   },
   "file_extension": ".py",
   "mimetype": "text/x-python",
   "name": "python",
   "nbconvert_exporter": "python",
   "pygments_lexer": "ipython2",
   "version": "2.7.6"
  }
 },
 "nbformat": 4,
 "nbformat_minor": 0
}
