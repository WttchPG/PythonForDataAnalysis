{
 "cells": [
  {
   "cell_type": "markdown",
   "source": [
    "# NumPy 的 narray: 一种多维数组对象"
   ],
   "metadata": {
    "collapsed": false
   }
  },
  {
   "cell_type": "code",
   "execution_count": 48,
   "outputs": [
    {
     "data": {
      "text/plain": "array([[ 0.9526, -0.246 , -0.8856],\n       [ 0.5639,  0.2379,  0.9104]])"
     },
     "execution_count": 48,
     "metadata": {},
     "output_type": "execute_result"
    }
   ],
   "source": [
    "import numpy as np\n",
    "\n",
    "data = np.array([[0.9526, -0.246, -0.8856], [0.5639, 0.2379, 0.9104]])\n",
    "\n",
    "data"
   ],
   "metadata": {
    "collapsed": false,
    "ExecuteTime": {
     "end_time": "2023-09-15T02:42:19.461410Z",
     "start_time": "2023-09-15T02:42:19.319353Z"
    }
   }
  },
  {
   "cell_type": "markdown",
   "source": [
    "你可以利用这种数组对整块数据执行一些数学运算，其语法跟标量元素之间的运算一样。"
   ],
   "metadata": {
    "collapsed": false
   }
  },
  {
   "cell_type": "code",
   "execution_count": 49,
   "outputs": [
    {
     "data": {
      "text/plain": "array([[ 9.526, -2.46 , -8.856],\n       [ 5.639,  2.379,  9.104]])"
     },
     "execution_count": 49,
     "metadata": {},
     "output_type": "execute_result"
    }
   ],
   "source": [
    "data * 10"
   ],
   "metadata": {
    "collapsed": false,
    "ExecuteTime": {
     "end_time": "2023-09-15T02:42:19.464223Z",
     "start_time": "2023-09-15T02:42:19.324996Z"
    }
   }
  },
  {
   "cell_type": "code",
   "execution_count": 50,
   "outputs": [
    {
     "data": {
      "text/plain": "array([[ 1.9052, -0.492 , -1.7712],\n       [ 1.1278,  0.4758,  1.8208]])"
     },
     "execution_count": 50,
     "metadata": {},
     "output_type": "execute_result"
    }
   ],
   "source": [
    "data + data"
   ],
   "metadata": {
    "collapsed": false,
    "ExecuteTime": {
     "end_time": "2023-09-15T02:42:19.464393Z",
     "start_time": "2023-09-15T02:42:19.330678Z"
    }
   }
  },
  {
   "cell_type": "markdown",
   "source": [
    "ndarray 是一种通用的同构数据多维容器，每个数组都有 shape (一个表示维度的元组)和一个 dtype (一个用于表示数组元素类型的对象)。"
   ],
   "metadata": {
    "collapsed": false
   }
  },
  {
   "cell_type": "code",
   "execution_count": 51,
   "outputs": [
    {
     "data": {
      "text/plain": "(2, 3)"
     },
     "execution_count": 51,
     "metadata": {},
     "output_type": "execute_result"
    }
   ],
   "source": [
    "data.shape"
   ],
   "metadata": {
    "collapsed": false,
    "ExecuteTime": {
     "end_time": "2023-09-15T02:42:19.465942Z",
     "start_time": "2023-09-15T02:42:19.335496Z"
    }
   }
  },
  {
   "cell_type": "code",
   "execution_count": 52,
   "outputs": [
    {
     "data": {
      "text/plain": "dtype('float64')"
     },
     "execution_count": 52,
     "metadata": {},
     "output_type": "execute_result"
    }
   ],
   "source": [
    "data.dtype"
   ],
   "metadata": {
    "collapsed": false,
    "ExecuteTime": {
     "end_time": "2023-09-15T02:42:19.466074Z",
     "start_time": "2023-09-15T02:42:19.341136Z"
    }
   }
  },
  {
   "cell_type": "markdown",
   "source": [
    "## 创建 ndarray"
   ],
   "metadata": {
    "collapsed": false
   }
  },
  {
   "cell_type": "code",
   "execution_count": 53,
   "outputs": [
    {
     "data": {
      "text/plain": "array([6. , 7.5, 8. , 0. , 1. ])"
     },
     "execution_count": 53,
     "metadata": {},
     "output_type": "execute_result"
    }
   ],
   "source": [
    "data1 = [6, 7.5, 8, 0, 1]\n",
    "arr1 = np.array(data1)\n",
    "\n",
    "arr1"
   ],
   "metadata": {
    "collapsed": false,
    "ExecuteTime": {
     "end_time": "2023-09-15T02:42:19.474666Z",
     "start_time": "2023-09-15T02:42:19.347412Z"
    }
   }
  },
  {
   "cell_type": "code",
   "execution_count": 54,
   "outputs": [
    {
     "data": {
      "text/plain": "array([[1, 2, 3, 4],\n       [5, 6, 7, 8]])"
     },
     "execution_count": 54,
     "metadata": {},
     "output_type": "execute_result"
    }
   ],
   "source": [
    "# 二维数组内的维度都必须一样，否则 np.array 将会报错\n",
    "data2 = [[1, 2, 3, 4], [5, 6, 7, 8]]\n",
    "arr2 = np.array(data2)\n",
    "\n",
    "arr2"
   ],
   "metadata": {
    "collapsed": false,
    "ExecuteTime": {
     "end_time": "2023-09-15T02:42:19.474961Z",
     "start_time": "2023-09-15T02:42:19.352278Z"
    }
   }
  },
  {
   "cell_type": "code",
   "execution_count": 55,
   "outputs": [
    {
     "data": {
      "text/plain": "2"
     },
     "execution_count": 55,
     "metadata": {},
     "output_type": "execute_result"
    }
   ],
   "source": [
    "# 返回数组的维度\n",
    "arr2.ndim"
   ],
   "metadata": {
    "collapsed": false,
    "ExecuteTime": {
     "end_time": "2023-09-15T02:42:19.475106Z",
     "start_time": "2023-09-15T02:42:19.359068Z"
    }
   }
  },
  {
   "cell_type": "code",
   "execution_count": 56,
   "outputs": [
    {
     "data": {
      "text/plain": "(2, 4)"
     },
     "execution_count": 56,
     "metadata": {},
     "output_type": "execute_result"
    }
   ],
   "source": [
    "arr2.shape"
   ],
   "metadata": {
    "collapsed": false,
    "ExecuteTime": {
     "end_time": "2023-09-15T02:42:19.475720Z",
     "start_time": "2023-09-15T02:42:19.366559Z"
    }
   }
  },
  {
   "cell_type": "markdown",
   "source": [
    "除非显式声明，否则 np.array 会尝试为给定的数组创建出一个合适的数据类型。"
   ],
   "metadata": {
    "collapsed": false
   }
  },
  {
   "cell_type": "code",
   "execution_count": 57,
   "outputs": [
    {
     "data": {
      "text/plain": "(dtype('float64'), dtype('int64'))"
     },
     "execution_count": 57,
     "metadata": {},
     "output_type": "execute_result"
    }
   ],
   "source": [
    "(arr1.dtype, arr2.dtype)"
   ],
   "metadata": {
    "collapsed": false,
    "ExecuteTime": {
     "end_time": "2023-09-15T02:42:19.477194Z",
     "start_time": "2023-09-15T02:42:19.372390Z"
    }
   }
  },
  {
   "cell_type": "code",
   "execution_count": 58,
   "outputs": [
    {
     "data": {
      "text/plain": "(array([0., 0., 0., 0., 0., 0., 0., 0., 0., 0.]),\n array([[0., 0., 0., 0., 0., 0.],\n        [0., 0., 0., 0., 0., 0.],\n        [0., 0., 0., 0., 0., 0.]]),\n array([[[0., 0.],\n         [0., 0.],\n         [0., 0.]],\n \n        [[0., 0.],\n         [0., 0.],\n         [0., 0.]]]))"
     },
     "execution_count": 58,
     "metadata": {},
     "output_type": "execute_result"
    }
   ],
   "source": [
    "np.zeros(10), np.zeros((3, 6)), np.empty((2, 3, 2))"
   ],
   "metadata": {
    "collapsed": false,
    "ExecuteTime": {
     "end_time": "2023-09-15T02:42:19.477347Z",
     "start_time": "2023-09-15T02:42:19.388824Z"
    }
   }
  },
  {
   "cell_type": "code",
   "execution_count": 59,
   "outputs": [
    {
     "data": {
      "text/plain": "array([ 0,  1,  2,  3,  4,  5,  6,  7,  8,  9, 10, 11, 12, 13, 14])"
     },
     "execution_count": 59,
     "metadata": {},
     "output_type": "execute_result"
    }
   ],
   "source": [
    "# arange 可以生成一个序列数组\n",
    "np.arange(15)"
   ],
   "metadata": {
    "collapsed": false,
    "ExecuteTime": {
     "end_time": "2023-09-15T02:42:19.477475Z",
     "start_time": "2023-09-15T02:42:19.389499Z"
    }
   }
  },
  {
   "cell_type": "code",
   "execution_count": 60,
   "outputs": [
    {
     "data": {
      "text/plain": "(array([[1., 0., 0., 0.],\n        [0., 1., 0., 0.],\n        [0., 0., 1., 0.],\n        [0., 0., 0., 1.]]),\n array([[1., 0., 0., 0.],\n        [0., 1., 0., 0.],\n        [0., 0., 1., 0.],\n        [0., 0., 0., 1.]]))"
     },
     "execution_count": 60,
     "metadata": {},
     "output_type": "execute_result"
    }
   ],
   "source": [
    "# 创建一个正方形单位矩阵\n",
    "np.eye(4), np.identity(4)"
   ],
   "metadata": {
    "collapsed": false,
    "ExecuteTime": {
     "end_time": "2023-09-15T02:42:19.477619Z",
     "start_time": "2023-09-15T02:42:19.389747Z"
    }
   }
  },
  {
   "cell_type": "markdown",
   "source": [
    "## ndarray 的数据类型"
   ],
   "metadata": {
    "collapsed": false
   }
  },
  {
   "cell_type": "code",
   "execution_count": 61,
   "outputs": [
    {
     "data": {
      "text/plain": "(dtype('float64'), dtype('int32'))"
     },
     "execution_count": 61,
     "metadata": {},
     "output_type": "execute_result"
    }
   ],
   "source": [
    "arr1 = np.array([1, 2, 3], dtype=np.float64)\n",
    "arr2 = np.array([1, 2, 3], dtype=np.int32)\n",
    "\n",
    "arr1.dtype, arr2.dtype"
   ],
   "metadata": {
    "collapsed": false,
    "ExecuteTime": {
     "end_time": "2023-09-15T02:42:19.477741Z",
     "start_time": "2023-09-15T02:42:19.395758Z"
    }
   }
  },
  {
   "cell_type": "code",
   "execution_count": 62,
   "outputs": [
    {
     "data": {
      "text/plain": "(dtype('int64'), dtype('float64'))"
     },
     "execution_count": 62,
     "metadata": {},
     "output_type": "execute_result"
    }
   ],
   "source": [
    "# 可以通过 ndarray 的 astype 方法显式地转换其 dtype\n",
    "arr = np.array([1, 2, 3, 4, 5])\n",
    "float_arr = arr.astype(np.float64)\n",
    "arr.dtype, float_arr.dtype"
   ],
   "metadata": {
    "collapsed": false,
    "ExecuteTime": {
     "end_time": "2023-09-15T02:42:19.478039Z",
     "start_time": "2023-09-15T02:42:19.402541Z"
    }
   }
  },
  {
   "cell_type": "code",
   "execution_count": 63,
   "outputs": [
    {
     "data": {
      "text/plain": "array([ 3, -1, -2,  0, 12, 10], dtype=int32)"
     },
     "execution_count": 63,
     "metadata": {},
     "output_type": "execute_result"
    }
   ],
   "source": [
    "# 也可以将浮点转换为整形，但是小数点后数值将被截断\n",
    "arr = np.array([3.7, -1.2, -2.6, 0.5, 12.9, 10.1])\n",
    "\n",
    "arr.astype(np.int32)"
   ],
   "metadata": {
    "collapsed": false,
    "ExecuteTime": {
     "end_time": "2023-09-15T02:42:19.478260Z",
     "start_time": "2023-09-15T02:42:19.407834Z"
    }
   }
  },
  {
   "cell_type": "code",
   "execution_count": 64,
   "outputs": [
    {
     "data": {
      "text/plain": "array([1.2, 2.2, 4.3])"
     },
     "execution_count": 64,
     "metadata": {},
     "output_type": "execute_result"
    }
   ],
   "source": [
    "# 元素全是字符串，也可以通过 astype 转换\n",
    "arr = np.array(['1.2', '2.2', '4.3'])\n",
    "\n",
    "arr.astype(float)"
   ],
   "metadata": {
    "collapsed": false,
    "ExecuteTime": {
     "end_time": "2023-09-15T02:42:19.478422Z",
     "start_time": "2023-09-15T02:42:19.411461Z"
    }
   }
  },
  {
   "cell_type": "markdown",
   "source": [
    "<span color='red'>astype 无论如何都会创建一个新的数组。</span>\n",
    "\n",
    "## 数组和标量之间的运算\n",
    "\n",
    "不像矩阵运算, 可以直接进行不同维度的计算，通过广播机制（后序会讲到）。"
   ],
   "metadata": {
    "collapsed": false
   }
  },
  {
   "cell_type": "code",
   "execution_count": 65,
   "outputs": [
    {
     "data": {
      "text/plain": "(array([[1., 2., 3.],\n        [4., 5., 6.]]),\n array([[ 1.,  4.,  9.],\n        [16., 25., 36.]]),\n array([[0., 0., 0.],\n        [0., 0., 0.]]),\n array([[1.        , 0.5       , 0.33333333],\n        [0.25      , 0.2       , 0.16666667]]),\n array([[1.        , 1.41421356, 1.73205081],\n        [2.        , 2.23606798, 2.44948974]]))"
     },
     "execution_count": 65,
     "metadata": {},
     "output_type": "execute_result"
    }
   ],
   "source": [
    "arr = np.array([[1., 2., 3.], [4., 5., 6.]])\n",
    "# 不像矩阵运算, 可以直接点对点乘\n",
    "arr, arr * arr, arr - arr, 1 / arr, arr ** 0.5"
   ],
   "metadata": {
    "collapsed": false,
    "ExecuteTime": {
     "end_time": "2023-09-15T02:42:19.478605Z",
     "start_time": "2023-09-15T02:42:19.425020Z"
    }
   }
  },
  {
   "cell_type": "markdown",
   "source": [
    "## 基本的索引和切片"
   ],
   "metadata": {
    "collapsed": false
   }
  },
  {
   "cell_type": "code",
   "execution_count": 66,
   "outputs": [
    {
     "data": {
      "text/plain": "5"
     },
     "execution_count": 66,
     "metadata": {},
     "output_type": "execute_result"
    }
   ],
   "source": [
    "arr = np.arange(10)\n",
    "\n",
    "arr[5]"
   ],
   "metadata": {
    "collapsed": false,
    "ExecuteTime": {
     "end_time": "2023-09-15T02:42:19.478735Z",
     "start_time": "2023-09-15T02:42:19.432029Z"
    }
   }
  },
  {
   "cell_type": "code",
   "execution_count": 67,
   "outputs": [
    {
     "data": {
      "text/plain": "array([5, 6, 7])"
     },
     "execution_count": 67,
     "metadata": {},
     "output_type": "execute_result"
    }
   ],
   "source": [
    "arr[5:8]"
   ],
   "metadata": {
    "collapsed": false,
    "ExecuteTime": {
     "end_time": "2023-09-15T02:42:19.478908Z",
     "start_time": "2023-09-15T02:42:19.436965Z"
    }
   }
  },
  {
   "cell_type": "code",
   "execution_count": 68,
   "outputs": [
    {
     "data": {
      "text/plain": "array([0, 1, 2, 3, 4, 5, 6, 7, 8, 9])"
     },
     "execution_count": 68,
     "metadata": {},
     "output_type": "execute_result"
    }
   ],
   "source": [
    "arr"
   ],
   "metadata": {
    "collapsed": false,
    "ExecuteTime": {
     "end_time": "2023-09-15T02:42:19.490049Z",
     "start_time": "2023-09-15T02:42:19.442025Z"
    }
   }
  },
  {
   "cell_type": "markdown",
   "source": [
    "标量通过赋值给一个切片时，会通过广播机制自动传播到整个切片选区。\n",
    "切片是原数组的一个视图，视图上的任何修改都会更新到原数组里。\n",
    "可以通过调用 ndarray.copy() 进行复制操作。"
   ],
   "metadata": {
    "collapsed": false
   }
  },
  {
   "cell_type": "code",
   "execution_count": 70,
   "outputs": [
    {
     "data": {
      "text/plain": "array([ 0,  1,  2,  3,  4,  5, 55,  7,  8,  9])"
     },
     "execution_count": 70,
     "metadata": {},
     "output_type": "execute_result"
    }
   ],
   "source": [
    "arr_slice = arr[5:8]\n",
    "arr_slice[1] = 55\n",
    "arr"
   ],
   "metadata": {
    "collapsed": false,
    "ExecuteTime": {
     "end_time": "2023-09-15T02:47:55.185966Z",
     "start_time": "2023-09-15T02:47:55.180969Z"
    }
   }
  },
  {
   "cell_type": "code",
   "execution_count": 72,
   "outputs": [
    {
     "data": {
      "text/plain": "array([ 0,  1,  2,  3,  4, 88, 88, 88,  8,  9])"
     },
     "execution_count": 72,
     "metadata": {},
     "output_type": "execute_result"
    }
   ],
   "source": [
    "arr_slice[:] = 88\n",
    "arr"
   ],
   "metadata": {
    "collapsed": false,
    "ExecuteTime": {
     "end_time": "2023-09-15T02:48:13.050224Z",
     "start_time": "2023-09-15T02:48:13.044836Z"
    }
   }
  },
  {
   "cell_type": "markdown",
   "source": [
    "## 切片索引\n",
    "ndarray 可以在多个维度上进行切片。"
   ],
   "metadata": {
    "collapsed": false
   }
  },
  {
   "cell_type": "code",
   "execution_count": 73,
   "outputs": [
    {
     "data": {
      "text/plain": "array([[1, 2, 3],\n       [4, 5, 6]])"
     },
     "execution_count": 73,
     "metadata": {},
     "output_type": "execute_result"
    }
   ],
   "source": [
    "arr2d = np.array([[1, 2, 3], [4, 5, 6], [7, 8, 9]])\n",
    "\n",
    "arr2d[:2]"
   ],
   "metadata": {
    "collapsed": false,
    "ExecuteTime": {
     "end_time": "2023-09-15T02:52:06.583755Z",
     "start_time": "2023-09-15T02:52:06.555443Z"
    }
   }
  },
  {
   "cell_type": "code",
   "execution_count": 74,
   "outputs": [
    {
     "data": {
      "text/plain": "array([[2, 3],\n       [5, 6]])"
     },
     "execution_count": 74,
     "metadata": {},
     "output_type": "execute_result"
    }
   ],
   "source": [
    "arr2d[:2, 1:]"
   ],
   "metadata": {
    "collapsed": false,
    "ExecuteTime": {
     "end_time": "2023-09-15T02:52:09.201032Z",
     "start_time": "2023-09-15T02:52:09.180403Z"
    }
   }
  },
  {
   "cell_type": "code",
   "execution_count": null,
   "outputs": [],
   "source": [
    "## 布尔型索引"
   ],
   "metadata": {
    "collapsed": false
   }
  },
  {
   "cell_type": "code",
   "execution_count": 81,
   "outputs": [
    {
     "data": {
      "text/plain": "array([[ 0.79612082, -1.45967479,  1.79446467, -0.211509  ],\n       [ 0.70100527,  0.12099579,  1.62739152, -0.56103719],\n       [ 1.32880097,  0.80947384, -0.02675846,  1.43891175],\n       [ 1.32505268,  1.84401239,  2.07517439, -0.15225194],\n       [-1.35190603, -1.02991352, -0.40384958,  1.34947764],\n       [-0.01249353,  0.13265569,  1.08906851, -3.43892292],\n       [-0.76117489, -2.36463059,  0.33201853, -0.24660595]])"
     },
     "execution_count": 81,
     "metadata": {},
     "output_type": "execute_result"
    }
   ],
   "source": [
    "from numpy.random import randn\n",
    "\n",
    "names = np.array(['Bob', 'Joe', 'Will', 'Bob', 'Will', 'Joe', 'Joe'])\n",
    "data = randn(7, 4)\n",
    "\n",
    "data"
   ],
   "metadata": {
    "collapsed": false,
    "ExecuteTime": {
     "end_time": "2023-09-15T02:59:05.120779Z",
     "start_time": "2023-09-15T02:59:05.110679Z"
    }
   }
  },
  {
   "cell_type": "code",
   "execution_count": 79,
   "outputs": [
    {
     "data": {
      "text/plain": "array([ True, False, False,  True, False, False, False])"
     },
     "execution_count": 79,
     "metadata": {},
     "output_type": "execute_result"
    }
   ],
   "source": [
    "names == 'Bob'"
   ],
   "metadata": {
    "collapsed": false,
    "ExecuteTime": {
     "end_time": "2023-09-15T02:58:26.316142Z",
     "start_time": "2023-09-15T02:58:26.307546Z"
    }
   }
  },
  {
   "cell_type": "markdown",
   "source": [
    "上述的布尔数组可以作为索引使用，布尔数组的维度必须和索引轴的长度一致。\n",
    "即：获取上述布尔数组为 True 的轴，获取其内的数据切片。\n",
    "该切片也是一个视图，可以通过广播对整个切片赋值，可以直接修改到原数组中。"
   ],
   "metadata": {
    "collapsed": false
   }
  },
  {
   "cell_type": "code",
   "execution_count": 83,
   "outputs": [],
   "source": [
    "data[names == 'Bob']"
   ],
   "metadata": {
    "collapsed": false,
    "ExecuteTime": {
     "end_time": "2023-09-15T03:01:12.023160Z",
     "start_time": "2023-09-15T03:01:12.021636Z"
    }
   }
  },
  {
   "cell_type": "code",
   "execution_count": 85,
   "outputs": [
    {
     "data": {
      "text/plain": "array([[ 2.00000000e+01,  2.00000000e+01,  2.00000000e+01,\n         2.00000000e+01],\n       [ 7.01005272e-01,  1.20995794e-01,  1.62739152e+00,\n        -5.61037188e-01],\n       [ 1.32880097e+00,  8.09473836e-01, -2.67584589e-02,\n         1.43891175e+00],\n       [ 2.00000000e+01,  2.00000000e+01,  2.00000000e+01,\n         2.00000000e+01],\n       [-1.35190603e+00, -1.02991352e+00, -4.03849583e-01,\n         1.34947764e+00],\n       [-1.24935310e-02,  1.32655685e-01,  1.08906851e+00,\n        -3.43892292e+00],\n       [-7.61174892e-01, -2.36463059e+00,  3.32018534e-01,\n        -2.46605946e-01]])"
     },
     "execution_count": 85,
     "metadata": {},
     "output_type": "execute_result"
    }
   ],
   "source": [
    "data[names == 'Bob'] = 20\n",
    "data"
   ],
   "metadata": {
    "collapsed": false,
    "ExecuteTime": {
     "end_time": "2023-09-15T03:02:28.328103Z",
     "start_time": "2023-09-15T03:02:28.319838Z"
    }
   }
  },
  {
   "cell_type": "markdown",
   "source": [
    "布尔数组可以作为多维切片的参数。"
   ],
   "metadata": {
    "collapsed": false
   }
  },
  {
   "cell_type": "code",
   "execution_count": 86,
   "outputs": [
    {
     "data": {
      "text/plain": "array([[20., 20., 20.],\n       [20., 20., 20.]])"
     },
     "execution_count": 86,
     "metadata": {},
     "output_type": "execute_result"
    }
   ],
   "source": [
    "data[names == 'Bob', :3]"
   ],
   "metadata": {
    "collapsed": false,
    "ExecuteTime": {
     "end_time": "2023-09-15T03:03:31.614180Z",
     "start_time": "2023-09-15T03:03:31.595531Z"
    }
   }
  },
  {
   "cell_type": "markdown",
   "source": [
    "布尔索引可以通过布尔运算将多个索引结合起来，例如: 非! 与& 或| (⚠️: or 和 and 关键字是无效的)。"
   ],
   "metadata": {
    "collapsed": false
   }
  },
  {
   "cell_type": "code",
   "execution_count": 87,
   "outputs": [
    {
     "data": {
      "text/plain": "array([[ 0.70100527,  0.12099579,  1.62739152, -0.56103719],\n       [ 1.32880097,  0.80947384, -0.02675846,  1.43891175],\n       [-1.35190603, -1.02991352, -0.40384958,  1.34947764],\n       [-0.01249353,  0.13265569,  1.08906851, -3.43892292],\n       [-0.76117489, -2.36463059,  0.33201853, -0.24660595]])"
     },
     "execution_count": 87,
     "metadata": {},
     "output_type": "execute_result"
    }
   ],
   "source": [
    "data[names != 'Bob']"
   ],
   "metadata": {
    "collapsed": false,
    "ExecuteTime": {
     "end_time": "2023-09-15T03:06:44.304333Z",
     "start_time": "2023-09-15T03:06:44.296369Z"
    }
   }
  },
  {
   "cell_type": "code",
   "execution_count": 88,
   "outputs": [
    {
     "data": {
      "text/plain": "array([[ 2.00000000e+01,  2.00000000e+01,  2.00000000e+01,\n         2.00000000e+01],\n       [ 7.01005272e-01,  1.20995794e-01,  1.62739152e+00,\n        -5.61037188e-01],\n       [ 2.00000000e+01,  2.00000000e+01,  2.00000000e+01,\n         2.00000000e+01],\n       [-1.24935310e-02,  1.32655685e-01,  1.08906851e+00,\n        -3.43892292e+00],\n       [-7.61174892e-01, -2.36463059e+00,  3.32018534e-01,\n        -2.46605946e-01]])"
     },
     "execution_count": 88,
     "metadata": {},
     "output_type": "execute_result"
    }
   ],
   "source": [
    "data[(names == 'Bob') | (names == 'Joe')]"
   ],
   "metadata": {
    "collapsed": false,
    "ExecuteTime": {
     "end_time": "2023-09-15T03:06:47.820416Z",
     "start_time": "2023-09-15T03:06:47.798146Z"
    }
   }
  },
  {
   "cell_type": "markdown",
   "source": [
    "## 花式索引 (Fancy indexing)\n",
    "花式索引可以通过整形数组进行索引，⚠️：花式索引总是会拷贝到新的数组中。"
   ],
   "metadata": {
    "collapsed": false
   }
  },
  {
   "cell_type": "code",
   "execution_count": 91,
   "outputs": [
    {
     "data": {
      "text/plain": "array([[0., 0., 0., 0.],\n       [1., 1., 1., 1.],\n       [2., 2., 2., 2.],\n       [3., 3., 3., 3.],\n       [4., 4., 4., 4.],\n       [5., 5., 5., 5.],\n       [6., 6., 6., 6.],\n       [7., 7., 7., 7.]])"
     },
     "execution_count": 91,
     "metadata": {},
     "output_type": "execute_result"
    }
   ],
   "source": [
    "arr = np.empty((8, 4))\n",
    "for i in range(8):\n",
    "    arr[i] = i\n",
    "arr"
   ],
   "metadata": {
    "collapsed": false,
    "ExecuteTime": {
     "end_time": "2023-09-15T03:10:30.628928Z",
     "start_time": "2023-09-15T03:10:30.618896Z"
    }
   }
  },
  {
   "cell_type": "code",
   "execution_count": 93,
   "outputs": [
    {
     "data": {
      "text/plain": "array([[4., 4., 4., 4.],\n       [3., 3., 3., 3.],\n       [0., 0., 0., 0.],\n       [7., 7., 7., 7.]])"
     },
     "execution_count": 93,
     "metadata": {},
     "output_type": "execute_result"
    }
   ],
   "source": [
    "# 给定的数组索引，将会按顺序被取出作为视图\n",
    "arr[[4, 3, 0, -1]]"
   ],
   "metadata": {
    "collapsed": false,
    "ExecuteTime": {
     "end_time": "2023-09-15T03:11:18.281078Z",
     "start_time": "2023-09-15T03:11:18.273024Z"
    }
   }
  },
  {
   "cell_type": "markdown",
   "source": [
    "花式索引同样可以使用到多维切片中，但是选择的数据可能不一定符合你的预期。\n",
    "如下：选取的是 （1，2), (3, 0), (5, 3), (7, 1) 这几个元素。"
   ],
   "metadata": {
    "collapsed": false
   }
  },
  {
   "cell_type": "code",
   "execution_count": 100,
   "outputs": [
    {
     "data": {
      "text/plain": "array([[ 0,  1,  2,  3],\n       [ 4,  5,  6,  7],\n       [ 8,  9, 10, 11],\n       [12, 13, 14, 15],\n       [16, 17, 18, 19],\n       [20, 21, 22, 23],\n       [24, 25, 26, 27],\n       [28, 29, 30, 31]])"
     },
     "execution_count": 100,
     "metadata": {},
     "output_type": "execute_result"
    }
   ],
   "source": [
    "arr = np.arange(32).reshape((8, 4))\n",
    "arr"
   ],
   "metadata": {
    "collapsed": false,
    "ExecuteTime": {
     "end_time": "2023-09-15T03:17:38.599404Z",
     "start_time": "2023-09-15T03:17:38.573837Z"
    }
   }
  },
  {
   "cell_type": "code",
   "execution_count": 99,
   "outputs": [
    {
     "data": {
      "text/plain": "array([ 6, 12, 23, 29])"
     },
     "execution_count": 99,
     "metadata": {},
     "output_type": "execute_result"
    }
   ],
   "source": [
    "arr[[1, 3, 5, 7], [2, 0, 3, 1]]"
   ],
   "metadata": {
    "collapsed": false,
    "ExecuteTime": {
     "end_time": "2023-09-15T03:17:28.710710Z",
     "start_time": "2023-09-15T03:17:28.706414Z"
    }
   }
  },
  {
   "cell_type": "markdown",
   "source": [
    "下面的方法可能符合你最初的预期。"
   ],
   "metadata": {
    "collapsed": false
   }
  },
  {
   "cell_type": "code",
   "execution_count": 106,
   "outputs": [
    {
     "data": {
      "text/plain": "(array([[ 4,  5,  6,  7],\n        [ 8,  9, 10, 11],\n        [20, 21, 22, 23],\n        [28, 29, 30, 31]]),\n array([[ 4,  7,  5,  6],\n        [20, 23, 21, 22],\n        [28, 31, 29, 30],\n        [ 8, 11,  9, 10]]))"
     },
     "execution_count": 106,
     "metadata": {},
     "output_type": "execute_result"
    }
   ],
   "source": [
    "# 二维度索引的 : 是必须的, 否则第一个索引取到的顺序数据将会丢失顺序。\n",
    "ret1 = arr[[1, 5, 7, 2]][[0, 3, 1, 2]]\n",
    "ret2 = arr[[1, 5, 7, 2]][:, [0, 3, 1, 2]]\n",
    "\n",
    "ret1, ret2"
   ],
   "metadata": {
    "collapsed": false,
    "ExecuteTime": {
     "end_time": "2023-09-15T03:19:23.666259Z",
     "start_time": "2023-09-15T03:19:23.657955Z"
    }
   }
  },
  {
   "cell_type": "markdown",
   "source": [
    "另一个方法是使用 np.ix_ 函数，他可以将两个整形数组转换为一个可以选区句型区域的索引器。"
   ],
   "metadata": {
    "collapsed": false
   }
  },
  {
   "cell_type": "code",
   "execution_count": 107,
   "outputs": [
    {
     "data": {
      "text/plain": "array([[ 4,  7,  5,  6],\n       [20, 23, 21, 22],\n       [28, 31, 29, 30],\n       [ 8, 11,  9, 10]])"
     },
     "execution_count": 107,
     "metadata": {},
     "output_type": "execute_result"
    }
   ],
   "source": [
    "arr[np.ix_([1, 5, 7, 2], [0, 3, 1, 2])]"
   ],
   "metadata": {
    "collapsed": false,
    "ExecuteTime": {
     "end_time": "2023-09-15T03:20:11.133280Z",
     "start_time": "2023-09-15T03:20:11.106935Z"
    }
   }
  },
  {
   "cell_type": "markdown",
   "source": [
    "## 数组的转置和轴对换\n",
    "转置也是源数据的一个视图，不会进行任何数据的复制。"
   ],
   "metadata": {
    "collapsed": false
   }
  },
  {
   "cell_type": "code",
   "execution_count": 108,
   "outputs": [
    {
     "data": {
      "text/plain": "array([[ 0,  1,  2,  3,  4],\n       [ 5,  6,  7,  8,  9],\n       [10, 11, 12, 13, 14]])"
     },
     "execution_count": 108,
     "metadata": {},
     "output_type": "execute_result"
    }
   ],
   "source": [
    "arr = np.arange(15).reshape((3, 5))\n",
    "arr"
   ],
   "metadata": {
    "collapsed": false,
    "ExecuteTime": {
     "end_time": "2023-09-15T03:40:36.151468Z",
     "start_time": "2023-09-15T03:40:36.125737Z"
    }
   }
  },
  {
   "cell_type": "code",
   "execution_count": 109,
   "outputs": [
    {
     "data": {
      "text/plain": "array([[ 0,  5, 10],\n       [ 1,  6, 11],\n       [ 2,  7, 12],\n       [ 3,  8, 13],\n       [ 4,  9, 14]])"
     },
     "execution_count": 109,
     "metadata": {},
     "output_type": "execute_result"
    }
   ],
   "source": [
    "arr.T"
   ],
   "metadata": {
    "collapsed": false,
    "ExecuteTime": {
     "end_time": "2023-09-15T03:40:40.857399Z",
     "start_time": "2023-09-15T03:40:40.830074Z"
    }
   }
  },
  {
   "cell_type": "markdown",
   "source": [
    ".T 属性在矩阵运算时会经常用到, 例如使用 np.dot 计算矩阵的内积。"
   ],
   "metadata": {
    "collapsed": false
   }
  },
  {
   "cell_type": "code",
   "execution_count": 110,
   "outputs": [
    {
     "data": {
      "text/plain": "array([[ 6.15122875, -0.22398537, -2.43406178],\n       [-0.22398537,  2.08849942,  0.68083564],\n       [-2.43406178,  0.68083564,  3.31354358]])"
     },
     "execution_count": 110,
     "metadata": {},
     "output_type": "execute_result"
    }
   ],
   "source": [
    "arr = np.random.randn(6, 3)\n",
    "\n",
    "np.dot(arr.T, arr)"
   ],
   "metadata": {
    "collapsed": false,
    "ExecuteTime": {
     "end_time": "2023-09-15T03:42:01.757426Z",
     "start_time": "2023-09-15T03:42:01.730717Z"
    }
   }
  },
  {
   "cell_type": "code",
   "execution_count": 112,
   "outputs": [
    {
     "data": {
      "text/plain": "array([[[ 0,  1,  2,  3],\n        [ 4,  5,  6,  7]],\n\n       [[ 8,  9, 10, 11],\n        [12, 13, 14, 15]]])"
     },
     "execution_count": 112,
     "metadata": {},
     "output_type": "execute_result"
    }
   ],
   "source": [
    "arr = np.arange(16).reshape((2, 2, 4))\n",
    "arr"
   ],
   "metadata": {
    "collapsed": false,
    "ExecuteTime": {
     "end_time": "2023-09-15T03:44:09.762496Z",
     "start_time": "2023-09-15T03:44:09.759710Z"
    }
   }
  },
  {
   "cell_type": "code",
   "execution_count": 113,
   "outputs": [
    {
     "data": {
      "text/plain": "array([[[ 0,  1,  2,  3],\n        [ 8,  9, 10, 11]],\n\n       [[ 4,  5,  6,  7],\n        [12, 13, 14, 15]]])"
     },
     "execution_count": 113,
     "metadata": {},
     "output_type": "execute_result"
    }
   ],
   "source": [
    "# 正常三维轴的顺序是 0、1、2 下面是将第 0、1 轴对调, 轴从最外层 [ 作为 0 轴开始。\n",
    "arr.transpose((1, 0, 2))"
   ],
   "metadata": {
    "collapsed": false,
    "ExecuteTime": {
     "end_time": "2023-09-15T03:44:12.870729Z",
     "start_time": "2023-09-15T03:44:12.842362Z"
    }
   }
  },
  {
   "cell_type": "markdown",
   "source": [
    "简单的转置可以使用 .T, 他其实就是进行轴对换而已。ndarray 还有一个 swapaxes 方法，他需要接收一对轴编号。"
   ],
   "metadata": {
    "collapsed": false
   }
  },
  {
   "cell_type": "code",
   "execution_count": 116,
   "outputs": [
    {
     "data": {
      "text/plain": "(array([[[ 0,  1,  2,  3],\n         [ 8,  9, 10, 11]],\n \n        [[ 4,  5,  6,  7],\n         [12, 13, 14, 15]]]),\n array([[[ 0,  4],\n         [ 1,  5],\n         [ 2,  6],\n         [ 3,  7]],\n \n        [[ 8, 12],\n         [ 9, 13],\n         [10, 14],\n         [11, 15]]]))"
     },
     "execution_count": 116,
     "metadata": {},
     "output_type": "execute_result"
    }
   ],
   "source": [
    "arr.swapaxes(0, 1), arr.swapaxes(1, 2)"
   ],
   "metadata": {
    "collapsed": false,
    "ExecuteTime": {
     "end_time": "2023-09-15T03:53:10.683305Z",
     "start_time": "2023-09-15T03:53:10.677568Z"
    }
   }
  },
  {
   "cell_type": "markdown",
   "source": [
    "# 通用函数：快速的元素级数组函数"
   ],
   "metadata": {
    "collapsed": false
   }
  }
 ],
 "metadata": {
  "kernelspec": {
   "display_name": "Python 3",
   "language": "python",
   "name": "python3"
  },
  "language_info": {
   "codemirror_mode": {
    "name": "ipython",
    "version": 2
   },
   "file_extension": ".py",
   "mimetype": "text/x-python",
   "name": "python",
   "nbconvert_exporter": "python",
   "pygments_lexer": "ipython2",
   "version": "2.7.6"
  }
 },
 "nbformat": 4,
 "nbformat_minor": 0
}
